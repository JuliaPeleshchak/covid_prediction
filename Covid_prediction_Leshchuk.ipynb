{
 "cells": [
  {
   "cell_type": "code",
   "execution_count": 1,
   "metadata": {},
   "outputs": [],
   "source": [
    "import pandas as pd\n",
    "import numpy as np\n",
    "import matplotlib.pyplot as plt\n",
    "import seaborn as sns\n",
    "from sklearn.preprocessing import LabelEncoder\n",
    "from sklearn.metrics import matthews_corrcoef\n",
    "from sklearn.model_selection import train_test_split\n",
    "import pandas as pd\n",
    "import numpy as np\n",
    "import numpy as np\n",
    "from sklearn.model_selection import train_test_split\n",
    "from sklearn import metrics\n",
    "from sklearn.metrics import classification_report\n",
    "from sklearn.metrics import confusion_matrix\n",
    "from sklearn.ensemble import RandomForestClassifier\n",
    "from sklearn.tree import DecisionTreeClassifier\n",
    "\n",
    "%matplotlib inline"
   ]
  },
  {
   "cell_type": "code",
   "execution_count": 2,
   "metadata": {},
   "outputs": [],
   "source": [
    "import numpy as np\n",
    "import pandas as pd "
   ]
  },
  {
   "cell_type": "code",
   "execution_count": 3,
   "metadata": {
    "scrolled": true
   },
   "outputs": [],
   "source": [
    "data = pd.read_excel(\"COVID-19.xlsx\")"
   ]
  },
  {
   "cell_type": "code",
   "execution_count": 4,
   "metadata": {},
   "outputs": [
    {
     "name": "stdout",
     "output_type": "stream",
     "text": [
      "<class 'pandas.core.frame.DataFrame'>\n",
      "RangeIndex: 3265 entries, 0 to 3264\n",
      "Data columns (total 19 columns):\n",
      " #   Column                                                                          Non-Null Count  Dtype  \n",
      "---  ------                                                                          --------------  -----  \n",
      " 0   Позначка часу                                                                   3265 non-null   object \n",
      " 1   Age (вік)                                                                       3264 non-null   object \n",
      " 2   Gender (стать)                                                                  3259 non-null   object \n",
      " 3   Region (Регіон)                                                                 3247 non-null   object \n",
      " 4   Do you smoke? (Ви палите?)                                                      3231 non-null   object \n",
      " 5   Have you had Covid`19 this year? (Чи хворіли Ви на  Covid`19 цього року?)       3264 non-null   object \n",
      " 6   IgM level (Рівень імуноглобуліна IgM, якщо відомо)                              3207 non-null   object \n",
      " 7   IgG level (Рівень імуноглобуліна IgG, якщо відомо)                              3207 non-null   object \n",
      " 8   Blood group (Група крові)                                                       3228 non-null   object \n",
      " 9   Do you vaccinated influenza? (Ви вакциновані від грипу?)                        3253 non-null   object \n",
      " 10  Do you vaccinated tuberculosis? (Ви вакциновані від туберкульозу?)              3262 non-null   object \n",
      " 11  Have you had influenza this year? (Чи хворіли грипом Ви цього року?)            3261 non-null   object \n",
      " 12  Have you had tuberculosis this year? (Чи хворіли Ви туберкульозом цього року?)  3261 non-null   object \n",
      " 13  Unnamed: 13                                                                     0 non-null      float64\n",
      " 14  Unnamed: 14                                                                     0 non-null      float64\n",
      " 15  Unnamed: 15                                                                     0 non-null      float64\n",
      " 16  Unnamed: 16                                                                     0 non-null      float64\n",
      " 17  Unnamed: 17                                                                     0 non-null      float64\n",
      " 18  Unnamed: 18                                                                     0 non-null      float64\n",
      "dtypes: float64(6), object(13)\n",
      "memory usage: 484.8+ KB\n"
     ]
    }
   ],
   "source": [
    "data.info()"
   ]
  },
  {
   "cell_type": "code",
   "execution_count": 5,
   "metadata": {},
   "outputs": [
    {
     "data": {
      "text/html": [
       "<div>\n",
       "<style scoped>\n",
       "    .dataframe tbody tr th:only-of-type {\n",
       "        vertical-align: middle;\n",
       "    }\n",
       "\n",
       "    .dataframe tbody tr th {\n",
       "        vertical-align: top;\n",
       "    }\n",
       "\n",
       "    .dataframe thead th {\n",
       "        text-align: right;\n",
       "    }\n",
       "</style>\n",
       "<table border=\"1\" class=\"dataframe\">\n",
       "  <thead>\n",
       "    <tr style=\"text-align: right;\">\n",
       "      <th></th>\n",
       "      <th>Позначка часу</th>\n",
       "      <th>Age (вік)</th>\n",
       "      <th>Gender (стать)</th>\n",
       "      <th>Region (Регіон)</th>\n",
       "      <th>Do you smoke? (Ви палите?)</th>\n",
       "      <th>Have you had Covid`19 this year? (Чи хворіли Ви на  Covid`19 цього року?)</th>\n",
       "      <th>IgM level (Рівень імуноглобуліна IgM, якщо відомо)</th>\n",
       "      <th>IgG level (Рівень імуноглобуліна IgG, якщо відомо)</th>\n",
       "      <th>Blood group (Група крові)</th>\n",
       "      <th>Do you vaccinated influenza? (Ви вакциновані від грипу?)</th>\n",
       "      <th>Do you vaccinated tuberculosis? (Ви вакциновані від туберкульозу?)</th>\n",
       "      <th>Have you had influenza this year? (Чи хворіли грипом Ви цього року?)</th>\n",
       "      <th>Have you had tuberculosis this year? (Чи хворіли Ви туберкульозом цього року?)</th>\n",
       "      <th>Unnamed: 13</th>\n",
       "      <th>Unnamed: 14</th>\n",
       "      <th>Unnamed: 15</th>\n",
       "      <th>Unnamed: 16</th>\n",
       "      <th>Unnamed: 17</th>\n",
       "      <th>Unnamed: 18</th>\n",
       "    </tr>\n",
       "  </thead>\n",
       "  <tbody>\n",
       "    <tr>\n",
       "      <th>0</th>\n",
       "      <td>2020-09-20 11:23:15</td>\n",
       "      <td>40-65</td>\n",
       "      <td>Female (Жінка)</td>\n",
       "      <td>Ukraine, Lviv (Львів)</td>\n",
       "      <td>No</td>\n",
       "      <td>Maybe (можливо)</td>\n",
       "      <td>&lt;0.9 (negative/негативний)</td>\n",
       "      <td>0.9-1.1 (indefinable/невизначений)</td>\n",
       "      <td>2</td>\n",
       "      <td>Yes</td>\n",
       "      <td>Yes</td>\n",
       "      <td>No</td>\n",
       "      <td>No</td>\n",
       "      <td>NaN</td>\n",
       "      <td>NaN</td>\n",
       "      <td>NaN</td>\n",
       "      <td>NaN</td>\n",
       "      <td>NaN</td>\n",
       "      <td>NaN</td>\n",
       "    </tr>\n",
       "    <tr>\n",
       "      <th>1</th>\n",
       "      <td>2020-09-20 11:23:15</td>\n",
       "      <td>23-40</td>\n",
       "      <td>Female (Жінка)</td>\n",
       "      <td>Ukraine, Chernivtsi</td>\n",
       "      <td>No</td>\n",
       "      <td>Yes</td>\n",
       "      <td>&gt;1.1 (positive/позитивний)</td>\n",
       "      <td>0.9-1.1 (indefinable/невизначений)</td>\n",
       "      <td>2</td>\n",
       "      <td>No</td>\n",
       "      <td>Yes</td>\n",
       "      <td>No</td>\n",
       "      <td>No</td>\n",
       "      <td>NaN</td>\n",
       "      <td>NaN</td>\n",
       "      <td>NaN</td>\n",
       "      <td>NaN</td>\n",
       "      <td>NaN</td>\n",
       "      <td>NaN</td>\n",
       "    </tr>\n",
       "    <tr>\n",
       "      <th>2</th>\n",
       "      <td>2020-09-20 11:23:15</td>\n",
       "      <td>23-40</td>\n",
       "      <td>Female (Жінка)</td>\n",
       "      <td>Ukraine, Lviv (Львів)</td>\n",
       "      <td>No</td>\n",
       "      <td>Maybe (можливо)</td>\n",
       "      <td>&lt;0.9 (negative/негативний)</td>\n",
       "      <td>&lt;0.9 (negative/негативний)</td>\n",
       "      <td>2</td>\n",
       "      <td>No</td>\n",
       "      <td>Yes</td>\n",
       "      <td>Yes</td>\n",
       "      <td>No</td>\n",
       "      <td>NaN</td>\n",
       "      <td>NaN</td>\n",
       "      <td>NaN</td>\n",
       "      <td>NaN</td>\n",
       "      <td>NaN</td>\n",
       "      <td>NaN</td>\n",
       "    </tr>\n",
       "    <tr>\n",
       "      <th>3</th>\n",
       "      <td>2020-09-20 11:23:15</td>\n",
       "      <td>40-65</td>\n",
       "      <td>Male (Чоловік)</td>\n",
       "      <td>Ukraine, Chernivtsi</td>\n",
       "      <td>No</td>\n",
       "      <td>No</td>\n",
       "      <td>&lt;0.9 (negative/негативний)</td>\n",
       "      <td>&lt;0.9 (negative/негативний)</td>\n",
       "      <td>2</td>\n",
       "      <td>No</td>\n",
       "      <td>Yes</td>\n",
       "      <td>No</td>\n",
       "      <td>No</td>\n",
       "      <td>NaN</td>\n",
       "      <td>NaN</td>\n",
       "      <td>NaN</td>\n",
       "      <td>NaN</td>\n",
       "      <td>NaN</td>\n",
       "      <td>NaN</td>\n",
       "    </tr>\n",
       "    <tr>\n",
       "      <th>4</th>\n",
       "      <td>2020-09-20 11:23:15</td>\n",
       "      <td>16-22</td>\n",
       "      <td>Male (Чоловік)</td>\n",
       "      <td>Ukraine, Lviv (Львів)</td>\n",
       "      <td>No</td>\n",
       "      <td>Yes</td>\n",
       "      <td>&gt;1.1 (positive/позитивний)</td>\n",
       "      <td>&lt;0.9 (negative/негативний)</td>\n",
       "      <td>1</td>\n",
       "      <td>No</td>\n",
       "      <td>Yes</td>\n",
       "      <td>Yes</td>\n",
       "      <td>No</td>\n",
       "      <td>NaN</td>\n",
       "      <td>NaN</td>\n",
       "      <td>NaN</td>\n",
       "      <td>NaN</td>\n",
       "      <td>NaN</td>\n",
       "      <td>NaN</td>\n",
       "    </tr>\n",
       "  </tbody>\n",
       "</table>\n",
       "</div>"
      ],
      "text/plain": [
       "         Позначка часу Age (вік)  Gender (стать)        Region (Регіон)  \\\n",
       "0  2020-09-20 11:23:15     40-65  Female (Жінка)  Ukraine, Lviv (Львів)   \n",
       "1  2020-09-20 11:23:15     23-40  Female (Жінка)    Ukraine, Chernivtsi   \n",
       "2  2020-09-20 11:23:15     23-40  Female (Жінка)  Ukraine, Lviv (Львів)   \n",
       "3  2020-09-20 11:23:15     40-65  Male (Чоловік)    Ukraine, Chernivtsi   \n",
       "4  2020-09-20 11:23:15     16-22  Male (Чоловік)  Ukraine, Lviv (Львів)   \n",
       "\n",
       "  Do you smoke? (Ви палите?)  \\\n",
       "0                         No   \n",
       "1                         No   \n",
       "2                         No   \n",
       "3                         No   \n",
       "4                         No   \n",
       "\n",
       "  Have you had Covid`19 this year? (Чи хворіли Ви на  Covid`19 цього року?)  \\\n",
       "0                                    Maybe (можливо)                          \n",
       "1                                                Yes                          \n",
       "2                                    Maybe (можливо)                          \n",
       "3                                                 No                          \n",
       "4                                                Yes                          \n",
       "\n",
       "  IgM level (Рівень імуноглобуліна IgM, якщо відомо)  \\\n",
       "0                         <0.9 (negative/негативний)   \n",
       "1                         >1.1 (positive/позитивний)   \n",
       "2                         <0.9 (negative/негативний)   \n",
       "3                         <0.9 (negative/негативний)   \n",
       "4                         >1.1 (positive/позитивний)   \n",
       "\n",
       "  IgG level (Рівень імуноглобуліна IgG, якщо відомо)  \\\n",
       "0                 0.9-1.1 (indefinable/невизначений)   \n",
       "1                 0.9-1.1 (indefinable/невизначений)   \n",
       "2                         <0.9 (negative/негативний)   \n",
       "3                         <0.9 (negative/негативний)   \n",
       "4                         <0.9 (negative/негативний)   \n",
       "\n",
       "  Blood group (Група крові)  \\\n",
       "0                         2   \n",
       "1                         2   \n",
       "2                         2   \n",
       "3                         2   \n",
       "4                         1   \n",
       "\n",
       "  Do you vaccinated influenza? (Ви вакциновані від грипу?)  \\\n",
       "0                                                Yes         \n",
       "1                                                 No         \n",
       "2                                                 No         \n",
       "3                                                 No         \n",
       "4                                                 No         \n",
       "\n",
       "  Do you vaccinated tuberculosis? (Ви вакциновані від туберкульозу?)  \\\n",
       "0                                                Yes                   \n",
       "1                                                Yes                   \n",
       "2                                                Yes                   \n",
       "3                                                Yes                   \n",
       "4                                                Yes                   \n",
       "\n",
       "  Have you had influenza this year? (Чи хворіли грипом Ви цього року?)  \\\n",
       "0                                                 No                     \n",
       "1                                                 No                     \n",
       "2                                                Yes                     \n",
       "3                                                 No                     \n",
       "4                                                Yes                     \n",
       "\n",
       "  Have you had tuberculosis this year? (Чи хворіли Ви туберкульозом цього року?)  \\\n",
       "0                                                 No                               \n",
       "1                                                 No                               \n",
       "2                                                 No                               \n",
       "3                                                 No                               \n",
       "4                                                 No                               \n",
       "\n",
       "   Unnamed: 13  Unnamed: 14  Unnamed: 15  Unnamed: 16  Unnamed: 17  \\\n",
       "0          NaN          NaN          NaN          NaN          NaN   \n",
       "1          NaN          NaN          NaN          NaN          NaN   \n",
       "2          NaN          NaN          NaN          NaN          NaN   \n",
       "3          NaN          NaN          NaN          NaN          NaN   \n",
       "4          NaN          NaN          NaN          NaN          NaN   \n",
       "\n",
       "   Unnamed: 18  \n",
       "0          NaN  \n",
       "1          NaN  \n",
       "2          NaN  \n",
       "3          NaN  \n",
       "4          NaN  "
      ]
     },
     "execution_count": 5,
     "metadata": {},
     "output_type": "execute_result"
    }
   ],
   "source": [
    "data.head()"
   ]
  },
  {
   "cell_type": "code",
   "execution_count": 6,
   "metadata": {},
   "outputs": [],
   "source": [
    "data = data.drop(columns = [\"Позначка часу\", \"Unnamed: 13\",\"Unnamed: 14\", \"Unnamed: 15\", \"Unnamed: 16\", \"Unnamed: 17\", \"Unnamed: 18\"],axis=1)"
   ]
  },
  {
   "cell_type": "code",
   "execution_count": 7,
   "metadata": {},
   "outputs": [
    {
     "data": {
      "text/plain": [
       "['Age (вік)',\n",
       " 'Gender (стать)',\n",
       " 'Region (Регіон)',\n",
       " 'Do you smoke? (Ви палите?)',\n",
       " 'Have you had Covid`19 this year? (Чи хворіли Ви на  Covid`19 цього року?)',\n",
       " 'IgM level (Рівень імуноглобуліна IgM, якщо відомо)',\n",
       " 'IgG level (Рівень імуноглобуліна IgG, якщо відомо)',\n",
       " 'Blood group (Група крові)',\n",
       " 'Do you vaccinated influenza? (Ви вакциновані від грипу?)',\n",
       " 'Do you vaccinated tuberculosis? (Ви вакциновані від туберкульозу?)',\n",
       " 'Have you had influenza this year? (Чи хворіли грипом Ви цього року?)',\n",
       " 'Have you had tuberculosis this year? (Чи хворіли Ви туберкульозом цього року?)']"
      ]
     },
     "execution_count": 7,
     "metadata": {},
     "output_type": "execute_result"
    }
   ],
   "source": [
    "[column for column in data.columns]"
   ]
  },
  {
   "cell_type": "code",
   "execution_count": 8,
   "metadata": {},
   "outputs": [],
   "source": [
    "def missing_values_table(df):\n",
    "        mis_val = df.isnull().sum()\n",
    "        mis_val_percent = 100 * df.isnull().sum() / len(df)\n",
    "        mis_val_table = pd.concat([mis_val, mis_val_percent], axis=1)\n",
    "        mis_val_table_ren_columns = mis_val_table.rename(\n",
    "        columns = {0 : 'Missing Values', 1 : '% of Total Values'})\n",
    "        mis_val_table_ren_columns = mis_val_table_ren_columns[\n",
    "            mis_val_table_ren_columns.iloc[:,1] != 0].sort_values(\n",
    "        '% of Total Values', ascending=False).round(1)\n",
    "        print (\"Your selected dataframe has \" + str(df.shape[1]) + \" columns.\\n\"      \n",
    "            \"There are \" + str(mis_val_table_ren_columns.shape[0]) +\n",
    "              \" columns that have missing values.\" \n",
    "              + \"Data size: \" + str(df.size))\n",
    "        return mis_val_table_ren_columns"
   ]
  },
  {
   "cell_type": "code",
   "execution_count": 9,
   "metadata": {},
   "outputs": [
    {
     "name": "stdout",
     "output_type": "stream",
     "text": [
      "Your selected dataframe has 12 columns.\n",
      "There are 12 columns that have missing values.Data size: 39180\n"
     ]
    },
    {
     "data": {
      "text/html": [
       "<div>\n",
       "<style scoped>\n",
       "    .dataframe tbody tr th:only-of-type {\n",
       "        vertical-align: middle;\n",
       "    }\n",
       "\n",
       "    .dataframe tbody tr th {\n",
       "        vertical-align: top;\n",
       "    }\n",
       "\n",
       "    .dataframe thead th {\n",
       "        text-align: right;\n",
       "    }\n",
       "</style>\n",
       "<table border=\"1\" class=\"dataframe\">\n",
       "  <thead>\n",
       "    <tr style=\"text-align: right;\">\n",
       "      <th></th>\n",
       "      <th>Missing Values</th>\n",
       "      <th>% of Total Values</th>\n",
       "    </tr>\n",
       "  </thead>\n",
       "  <tbody>\n",
       "    <tr>\n",
       "      <th>IgM level (Рівень імуноглобуліна IgM, якщо відомо)</th>\n",
       "      <td>58</td>\n",
       "      <td>1.8</td>\n",
       "    </tr>\n",
       "    <tr>\n",
       "      <th>IgG level (Рівень імуноглобуліна IgG, якщо відомо)</th>\n",
       "      <td>58</td>\n",
       "      <td>1.8</td>\n",
       "    </tr>\n",
       "    <tr>\n",
       "      <th>Blood group (Група крові)</th>\n",
       "      <td>37</td>\n",
       "      <td>1.1</td>\n",
       "    </tr>\n",
       "    <tr>\n",
       "      <th>Do you smoke? (Ви палите?)</th>\n",
       "      <td>34</td>\n",
       "      <td>1.0</td>\n",
       "    </tr>\n",
       "    <tr>\n",
       "      <th>Region (Регіон)</th>\n",
       "      <td>18</td>\n",
       "      <td>0.6</td>\n",
       "    </tr>\n",
       "    <tr>\n",
       "      <th>Do you vaccinated influenza? (Ви вакциновані від грипу?)</th>\n",
       "      <td>12</td>\n",
       "      <td>0.4</td>\n",
       "    </tr>\n",
       "    <tr>\n",
       "      <th>Gender (стать)</th>\n",
       "      <td>6</td>\n",
       "      <td>0.2</td>\n",
       "    </tr>\n",
       "    <tr>\n",
       "      <th>Have you had influenza this year? (Чи хворіли грипом Ви цього року?)</th>\n",
       "      <td>4</td>\n",
       "      <td>0.1</td>\n",
       "    </tr>\n",
       "    <tr>\n",
       "      <th>Have you had tuberculosis this year? (Чи хворіли Ви туберкульозом цього року?)</th>\n",
       "      <td>4</td>\n",
       "      <td>0.1</td>\n",
       "    </tr>\n",
       "    <tr>\n",
       "      <th>Do you vaccinated tuberculosis? (Ви вакциновані від туберкульозу?)</th>\n",
       "      <td>3</td>\n",
       "      <td>0.1</td>\n",
       "    </tr>\n",
       "    <tr>\n",
       "      <th>Age (вік)</th>\n",
       "      <td>1</td>\n",
       "      <td>0.0</td>\n",
       "    </tr>\n",
       "    <tr>\n",
       "      <th>Have you had Covid`19 this year? (Чи хворіли Ви на  Covid`19 цього року?)</th>\n",
       "      <td>1</td>\n",
       "      <td>0.0</td>\n",
       "    </tr>\n",
       "  </tbody>\n",
       "</table>\n",
       "</div>"
      ],
      "text/plain": [
       "                                                    Missing Values  \\\n",
       "IgM level (Рівень імуноглобуліна IgM, якщо відомо)              58   \n",
       "IgG level (Рівень імуноглобуліна IgG, якщо відомо)              58   \n",
       "Blood group (Група крові)                                       37   \n",
       "Do you smoke? (Ви палите?)                                      34   \n",
       "Region (Регіон)                                                 18   \n",
       "Do you vaccinated influenza? (Ви вакциновані ві...              12   \n",
       "Gender (стать)                                                   6   \n",
       "Have you had influenza this year? (Чи хворіли г...               4   \n",
       "Have you had tuberculosis this year? (Чи хворіл...               4   \n",
       "Do you vaccinated tuberculosis? (Ви вакциновані...               3   \n",
       "Age (вік)                                                        1   \n",
       "Have you had Covid`19 this year? (Чи хворіли Ви...               1   \n",
       "\n",
       "                                                    % of Total Values  \n",
       "IgM level (Рівень імуноглобуліна IgM, якщо відомо)                1.8  \n",
       "IgG level (Рівень імуноглобуліна IgG, якщо відомо)                1.8  \n",
       "Blood group (Група крові)                                         1.1  \n",
       "Do you smoke? (Ви палите?)                                        1.0  \n",
       "Region (Регіон)                                                   0.6  \n",
       "Do you vaccinated influenza? (Ви вакциновані ві...                0.4  \n",
       "Gender (стать)                                                    0.2  \n",
       "Have you had influenza this year? (Чи хворіли г...                0.1  \n",
       "Have you had tuberculosis this year? (Чи хворіл...                0.1  \n",
       "Do you vaccinated tuberculosis? (Ви вакциновані...                0.1  \n",
       "Age (вік)                                                         0.0  \n",
       "Have you had Covid`19 this year? (Чи хворіли Ви...                0.0  "
      ]
     },
     "execution_count": 9,
     "metadata": {},
     "output_type": "execute_result"
    }
   ],
   "source": [
    "missing_values_table(data)"
   ]
  },
  {
   "cell_type": "code",
   "execution_count": 10,
   "metadata": {},
   "outputs": [],
   "source": [
    "data = data.dropna()"
   ]
  },
  {
   "cell_type": "code",
   "execution_count": 11,
   "metadata": {},
   "outputs": [],
   "source": [
    "data =  data.rename(columns={'Age (вік)': 'Age', 'Gender (стать)': 'Gender',\n",
    "                            'Do you smoke? (Ви палите?)': 'Smoke', 'Region (Регіон)': 'Region',\n",
    "                            'Have you had Covid`19 this year? (Чи хворіли Ви на  Covid`19 цього року?)': 'Covid', \n",
    "                             'IgM level (Рівень імуноглобуліна IgM, якщо відомо)': 'IgM',\n",
    "                            'IgG level (Рівень імуноглобуліна IgG, якщо відомо)': 'IgG',\n",
    "                             'Blood group (Група крові)': 'Blood_group',\n",
    "                            'Do you vaccinated influenza? (Ви вакциновані від грипу?)': 'Vac_influenza', \n",
    "                             'Do you vaccinated tuberculosis? (Ви вакциновані від туберкульозу?)': 'Vac_tuberculosis',\n",
    "                            'Have you had influenza this year? (Чи хворіли грипом Ви цього року?)': 'Influenza', \n",
    "                             'Have you had tuberculosis this year? (Чи хворіли Ви туберкульозом цього року?)': 'Tuberculosis'})"
   ]
  },
  {
   "cell_type": "code",
   "execution_count": 12,
   "metadata": {},
   "outputs": [
    {
     "data": {
      "text/html": [
       "<div>\n",
       "<style scoped>\n",
       "    .dataframe tbody tr th:only-of-type {\n",
       "        vertical-align: middle;\n",
       "    }\n",
       "\n",
       "    .dataframe tbody tr th {\n",
       "        vertical-align: top;\n",
       "    }\n",
       "\n",
       "    .dataframe thead th {\n",
       "        text-align: right;\n",
       "    }\n",
       "</style>\n",
       "<table border=\"1\" class=\"dataframe\">\n",
       "  <thead>\n",
       "    <tr style=\"text-align: right;\">\n",
       "      <th></th>\n",
       "      <th>Age</th>\n",
       "      <th>Gender</th>\n",
       "      <th>Region</th>\n",
       "      <th>Smoke</th>\n",
       "      <th>Covid</th>\n",
       "      <th>IgM</th>\n",
       "      <th>IgG</th>\n",
       "      <th>Blood_group</th>\n",
       "      <th>Vac_influenza</th>\n",
       "      <th>Vac_tuberculosis</th>\n",
       "      <th>Influenza</th>\n",
       "      <th>Tuberculosis</th>\n",
       "    </tr>\n",
       "  </thead>\n",
       "  <tbody>\n",
       "    <tr>\n",
       "      <th>0</th>\n",
       "      <td>40-65</td>\n",
       "      <td>Female (Жінка)</td>\n",
       "      <td>Ukraine, Lviv (Львів)</td>\n",
       "      <td>No</td>\n",
       "      <td>Maybe (можливо)</td>\n",
       "      <td>&lt;0.9 (negative/негативний)</td>\n",
       "      <td>0.9-1.1 (indefinable/невизначений)</td>\n",
       "      <td>2</td>\n",
       "      <td>Yes</td>\n",
       "      <td>Yes</td>\n",
       "      <td>No</td>\n",
       "      <td>No</td>\n",
       "    </tr>\n",
       "    <tr>\n",
       "      <th>1</th>\n",
       "      <td>23-40</td>\n",
       "      <td>Female (Жінка)</td>\n",
       "      <td>Ukraine, Chernivtsi</td>\n",
       "      <td>No</td>\n",
       "      <td>Yes</td>\n",
       "      <td>&gt;1.1 (positive/позитивний)</td>\n",
       "      <td>0.9-1.1 (indefinable/невизначений)</td>\n",
       "      <td>2</td>\n",
       "      <td>No</td>\n",
       "      <td>Yes</td>\n",
       "      <td>No</td>\n",
       "      <td>No</td>\n",
       "    </tr>\n",
       "    <tr>\n",
       "      <th>2</th>\n",
       "      <td>23-40</td>\n",
       "      <td>Female (Жінка)</td>\n",
       "      <td>Ukraine, Lviv (Львів)</td>\n",
       "      <td>No</td>\n",
       "      <td>Maybe (можливо)</td>\n",
       "      <td>&lt;0.9 (negative/негативний)</td>\n",
       "      <td>&lt;0.9 (negative/негативний)</td>\n",
       "      <td>2</td>\n",
       "      <td>No</td>\n",
       "      <td>Yes</td>\n",
       "      <td>Yes</td>\n",
       "      <td>No</td>\n",
       "    </tr>\n",
       "    <tr>\n",
       "      <th>3</th>\n",
       "      <td>40-65</td>\n",
       "      <td>Male (Чоловік)</td>\n",
       "      <td>Ukraine, Chernivtsi</td>\n",
       "      <td>No</td>\n",
       "      <td>No</td>\n",
       "      <td>&lt;0.9 (negative/негативний)</td>\n",
       "      <td>&lt;0.9 (negative/негативний)</td>\n",
       "      <td>2</td>\n",
       "      <td>No</td>\n",
       "      <td>Yes</td>\n",
       "      <td>No</td>\n",
       "      <td>No</td>\n",
       "    </tr>\n",
       "    <tr>\n",
       "      <th>4</th>\n",
       "      <td>16-22</td>\n",
       "      <td>Male (Чоловік)</td>\n",
       "      <td>Ukraine, Lviv (Львів)</td>\n",
       "      <td>No</td>\n",
       "      <td>Yes</td>\n",
       "      <td>&gt;1.1 (positive/позитивний)</td>\n",
       "      <td>&lt;0.9 (negative/негативний)</td>\n",
       "      <td>1</td>\n",
       "      <td>No</td>\n",
       "      <td>Yes</td>\n",
       "      <td>Yes</td>\n",
       "      <td>No</td>\n",
       "    </tr>\n",
       "    <tr>\n",
       "      <th>5</th>\n",
       "      <td>16-22</td>\n",
       "      <td>Male (Чоловік)</td>\n",
       "      <td>Ukraine, Lviv (Львів)</td>\n",
       "      <td>No</td>\n",
       "      <td>No</td>\n",
       "      <td>&lt;0.9 (negative/негативний)</td>\n",
       "      <td>&lt;0.9 (negative/негативний)</td>\n",
       "      <td>2</td>\n",
       "      <td>Yes</td>\n",
       "      <td>Yes</td>\n",
       "      <td>No</td>\n",
       "      <td>No</td>\n",
       "    </tr>\n",
       "    <tr>\n",
       "      <th>6</th>\n",
       "      <td>16-22</td>\n",
       "      <td>Male (Чоловік)</td>\n",
       "      <td>Ukraine, Lviv (Львів)</td>\n",
       "      <td>No</td>\n",
       "      <td>No</td>\n",
       "      <td>&lt;0.9 (negative/негативний)</td>\n",
       "      <td>&lt;0.9 (negative/негативний)</td>\n",
       "      <td>1</td>\n",
       "      <td>No</td>\n",
       "      <td>No</td>\n",
       "      <td>No</td>\n",
       "      <td>No</td>\n",
       "    </tr>\n",
       "    <tr>\n",
       "      <th>7</th>\n",
       "      <td>23-40</td>\n",
       "      <td>Female (Жінка)</td>\n",
       "      <td>Ukraine, Lviv (Львів)</td>\n",
       "      <td>No</td>\n",
       "      <td>Maybe</td>\n",
       "      <td>&lt;0.9 (negative/негативний)</td>\n",
       "      <td>0.9-1.1 (indefinable/невизначений)</td>\n",
       "      <td>1</td>\n",
       "      <td>No</td>\n",
       "      <td>Yes</td>\n",
       "      <td>Maybe (можливо)</td>\n",
       "      <td>No</td>\n",
       "    </tr>\n",
       "    <tr>\n",
       "      <th>8</th>\n",
       "      <td>23-40</td>\n",
       "      <td>Female (Жінка)</td>\n",
       "      <td>Ukraine, Lviv (Львів)</td>\n",
       "      <td>No</td>\n",
       "      <td>Maybe (можливо)</td>\n",
       "      <td>&lt;0.9 (negative/негативний)</td>\n",
       "      <td>&lt;0.9 (negative/негативний)</td>\n",
       "      <td>2</td>\n",
       "      <td>No</td>\n",
       "      <td>Yes</td>\n",
       "      <td>Maybe (можливо)</td>\n",
       "      <td>No</td>\n",
       "    </tr>\n",
       "    <tr>\n",
       "      <th>9</th>\n",
       "      <td>40-65</td>\n",
       "      <td>Female (Жінка)</td>\n",
       "      <td>Ukraine, Lviv (Львів)</td>\n",
       "      <td>No</td>\n",
       "      <td>No</td>\n",
       "      <td>&lt;0.9 (negative/негативний)</td>\n",
       "      <td>&lt;0.9 (negative/негативний)</td>\n",
       "      <td>2</td>\n",
       "      <td>No</td>\n",
       "      <td>Yes</td>\n",
       "      <td>No</td>\n",
       "      <td>No</td>\n",
       "    </tr>\n",
       "  </tbody>\n",
       "</table>\n",
       "</div>"
      ],
      "text/plain": [
       "     Age          Gender                 Region Smoke            Covid  \\\n",
       "0  40-65  Female (Жінка)  Ukraine, Lviv (Львів)    No  Maybe (можливо)   \n",
       "1  23-40  Female (Жінка)    Ukraine, Chernivtsi    No              Yes   \n",
       "2  23-40  Female (Жінка)  Ukraine, Lviv (Львів)    No  Maybe (можливо)   \n",
       "3  40-65  Male (Чоловік)    Ukraine, Chernivtsi    No               No   \n",
       "4  16-22  Male (Чоловік)  Ukraine, Lviv (Львів)    No              Yes   \n",
       "5  16-22  Male (Чоловік)  Ukraine, Lviv (Львів)    No               No   \n",
       "6  16-22  Male (Чоловік)  Ukraine, Lviv (Львів)    No               No   \n",
       "7  23-40  Female (Жінка)  Ukraine, Lviv (Львів)    No            Maybe   \n",
       "8  23-40  Female (Жінка)  Ukraine, Lviv (Львів)    No  Maybe (можливо)   \n",
       "9  40-65  Female (Жінка)  Ukraine, Lviv (Львів)    No               No   \n",
       "\n",
       "                          IgM                                 IgG Blood_group  \\\n",
       "0  <0.9 (negative/негативний)  0.9-1.1 (indefinable/невизначений)           2   \n",
       "1  >1.1 (positive/позитивний)  0.9-1.1 (indefinable/невизначений)           2   \n",
       "2  <0.9 (negative/негативний)          <0.9 (negative/негативний)           2   \n",
       "3  <0.9 (negative/негативний)          <0.9 (negative/негативний)           2   \n",
       "4  >1.1 (positive/позитивний)          <0.9 (negative/негативний)           1   \n",
       "5  <0.9 (negative/негативний)          <0.9 (negative/негативний)           2   \n",
       "6  <0.9 (negative/негативний)          <0.9 (negative/негативний)           1   \n",
       "7  <0.9 (negative/негативний)  0.9-1.1 (indefinable/невизначений)           1   \n",
       "8  <0.9 (negative/негативний)          <0.9 (negative/негативний)           2   \n",
       "9  <0.9 (negative/негативний)          <0.9 (negative/негативний)           2   \n",
       "\n",
       "  Vac_influenza Vac_tuberculosis        Influenza Tuberculosis  \n",
       "0           Yes              Yes               No           No  \n",
       "1            No              Yes               No           No  \n",
       "2            No              Yes              Yes           No  \n",
       "3            No              Yes               No           No  \n",
       "4            No              Yes              Yes           No  \n",
       "5           Yes              Yes               No           No  \n",
       "6            No               No               No           No  \n",
       "7            No              Yes  Maybe (можливо)           No  \n",
       "8            No              Yes  Maybe (можливо)           No  \n",
       "9            No              Yes               No           No  "
      ]
     },
     "execution_count": 12,
     "metadata": {},
     "output_type": "execute_result"
    }
   ],
   "source": [
    "data.head(10)"
   ]
  },
  {
   "cell_type": "code",
   "execution_count": 13,
   "metadata": {},
   "outputs": [
    {
     "name": "stdout",
     "output_type": "stream",
     "text": [
      "Age : ['40-65' '23-40' '16-22' '>65' '0-15' 'Age (вік)']\n",
      "Gender : ['Female (Жінка)' 'Male (Чоловік)' 'Gender (стать)']\n",
      "Region : ['Ukraine, Lviv (Львів)' 'Ukraine, Chernivtsi' 'Germany' 'Other (Інше)'\n",
      " 'Ukraine, Chernivtsi (Чернівці)' 'Region (Регіон)']\n",
      "Smoke : ['No' 'Yes' 'Do you smoke? (Ви палите?)']\n",
      "Covid : ['Maybe (можливо)' 'Yes' 'No' 'Maybe'\n",
      " 'Have you had Covid`19 this year? (Чи хворіли Ви на  Covid`19 цього року?)']\n",
      "IgM : ['<0.9 (negative/негативний)' '>1.1 (positive/позитивний)'\n",
      " '0.9-1.1 (indefinable/невизначений)'\n",
      " 'IgM level (Рівень імуноглобуліна IgM, якщо відомо)']\n",
      "IgG : ['0.9-1.1 (indefinable/невизначений)' '<0.9 (negative/негативний)'\n",
      " '>1.1 (positive/позитивний)'\n",
      " 'IgG level (Рівень імуноглобуліна IgG, якщо відомо)']\n",
      "Blood_group : [2 1 4 3 'Blood group (Група крові)']\n",
      "Vac_influenza : ['Yes' 'No' 'Maybe (можливо)' 'Maybe ' 'Maybe'\n",
      " 'Do you vaccinated influenza? (Ви вакциновані від грипу?)']\n",
      "Vac_tuberculosis : ['Yes' 'No' 'Maybe (можливо)' 'Maybe ' 'Maybe' 'Maybe (можливо)(можливо)'\n",
      " 'Do you vaccinated tuberculosis? (Ви вакциновані від туберкульозу?)']\n",
      "Influenza : ['No' 'Yes' 'Maybe (можливо)' 'Maybe ' 'Maybe'\n",
      " 'Have you had influenza this year? (Чи хворіли грипом Ви цього року?)']\n",
      "Tuberculosis : ['No' 'Maybe (можливо)' 'Yes'\n",
      " 'Have you had tuberculosis this year? (Чи хворіли Ви туберкульозом цього року?)']\n"
     ]
    }
   ],
   "source": [
    "for col in data:\n",
    "    print(f\"{col} : {data[col].unique()}\")"
   ]
  },
  {
   "cell_type": "code",
   "execution_count": 14,
   "metadata": {},
   "outputs": [],
   "source": [
    "data = data.replace({'Region': 'Ukraine, Chernivtsi',}, 'Ukraine, Chernivtsi (Чернівці)')\n",
    "data = data.replace({'Covid': 'Maybe (можливо)',}, 'Maybe')\n",
    "data = data.replace({'Vac_influenza': 'Maybe (можливо)',}, 'Maybe')\n",
    "data = data.replace({'Vac_influenza': 'Maybe ',}, 'Maybe')\n",
    "data = data.replace({'Vac_tuberculosis': 'Maybe (можливо)',}, 'Maybe')\n",
    "data = data.replace({'Vac_tuberculosis': 'Maybe (можливо)(можливо)',}, 'Maybe')\n",
    "data = data.replace({'Vac_tuberculosis': 'Maybe ',}, 'Maybe')\n",
    "data = data.replace({'Influenza': 'Maybe (можливо)',}, 'Maybe')\n",
    "data = data.replace({'Influenza': 'Maybe ',}, 'Maybe')\n",
    "data = data.replace({'Tuberculosis': 'Maybe (можливо)',}, 'Maybe')\n",
    "\n",
    "\n",
    "data = data.drop(data[data.Age =='Age (вік)'].index)\n",
    "data = data.drop(data[data.Gender =='Gender (стать)'].index)\n",
    "data = data.drop(data[data.Region =='Region (Регіон)'].index)\n",
    "data = data.drop(data[data.Smoke =='Do you smoke? (Ви палите?)'].index)\n",
    "data = data.drop(data[data.Covid =='Have you had Covid`19 this year? (Чи хворіли Ви на  Covid`19 цього року?)'].index)\n",
    "data = data.drop(data[data.IgM =='IgM level (Рівень імуноглобуліна IgM, якщо відомо)'].index)\n",
    "data = data.drop(data[data.IgG =='IgG level (Рівень імуноглобуліна IgG, якщо відомо)'].index)\n",
    "data = data.drop(data[data.Blood_group  =='Blood group (Група крові)'].index)\n",
    "data = data.drop(data[data.Vac_influenza  =='Do you vaccinated influenza? (Ви вакциновані від грипу?)'].index)\n",
    "data = data.drop(data[data.Vac_tuberculosis  =='Do you vaccinated tuberculosis? (Ви вакциновані від туберкульозу?)'].index)\n",
    "data = data.drop(data[data.Influenza  == 'Have you had influenza this year? (Чи хворіли грипом Ви цього року?)'].index)\n",
    "data = data.drop(data[data.Tuberculosis  =='Have you had tuberculosis this year? (Чи хворіли Ви туберкульозом цього року?)'].index)"
   ]
  },
  {
   "cell_type": "code",
   "execution_count": 15,
   "metadata": {},
   "outputs": [
    {
     "name": "stdout",
     "output_type": "stream",
     "text": [
      "Age : ['40-65' '23-40' '16-22' '>65' '0-15']\n",
      "Gender : ['Female (Жінка)' 'Male (Чоловік)']\n",
      "Region : ['Ukraine, Lviv (Львів)' 'Ukraine, Chernivtsi (Чернівці)' 'Germany'\n",
      " 'Other (Інше)']\n",
      "Smoke : ['No' 'Yes']\n",
      "Covid : ['Maybe' 'Yes' 'No']\n",
      "IgM : ['<0.9 (negative/негативний)' '>1.1 (positive/позитивний)'\n",
      " '0.9-1.1 (indefinable/невизначений)']\n",
      "IgG : ['0.9-1.1 (indefinable/невизначений)' '<0.9 (negative/негативний)'\n",
      " '>1.1 (positive/позитивний)']\n",
      "Blood_group : [2 1 4 3]\n",
      "Vac_influenza : ['Yes' 'No' 'Maybe']\n",
      "Vac_tuberculosis : ['Yes' 'No' 'Maybe']\n",
      "Influenza : ['No' 'Yes' 'Maybe']\n",
      "Tuberculosis : ['No' 'Maybe' 'Yes']\n"
     ]
    }
   ],
   "source": [
    "for col in data:\n",
    "    print(f\"{col} : {data[col].unique()}\")"
   ]
  },
  {
   "cell_type": "code",
   "execution_count": 16,
   "metadata": {},
   "outputs": [
    {
     "data": {
      "text/html": [
       "<div>\n",
       "<style scoped>\n",
       "    .dataframe tbody tr th:only-of-type {\n",
       "        vertical-align: middle;\n",
       "    }\n",
       "\n",
       "    .dataframe tbody tr th {\n",
       "        vertical-align: top;\n",
       "    }\n",
       "\n",
       "    .dataframe thead th {\n",
       "        text-align: right;\n",
       "    }\n",
       "</style>\n",
       "<table border=\"1\" class=\"dataframe\">\n",
       "  <thead>\n",
       "    <tr style=\"text-align: right;\">\n",
       "      <th></th>\n",
       "      <th>Age</th>\n",
       "      <th>Gender</th>\n",
       "      <th>Region</th>\n",
       "      <th>Smoke</th>\n",
       "      <th>Covid</th>\n",
       "      <th>IgM</th>\n",
       "      <th>IgG</th>\n",
       "      <th>Blood_group</th>\n",
       "      <th>Vac_influenza</th>\n",
       "      <th>Vac_tuberculosis</th>\n",
       "      <th>Influenza</th>\n",
       "      <th>Tuberculosis</th>\n",
       "    </tr>\n",
       "  </thead>\n",
       "  <tbody>\n",
       "    <tr>\n",
       "      <th>count</th>\n",
       "      <td>3100</td>\n",
       "      <td>3100</td>\n",
       "      <td>3100</td>\n",
       "      <td>3100</td>\n",
       "      <td>3100</td>\n",
       "      <td>3100</td>\n",
       "      <td>3100</td>\n",
       "      <td>3100</td>\n",
       "      <td>3100</td>\n",
       "      <td>3100</td>\n",
       "      <td>3100</td>\n",
       "      <td>3100</td>\n",
       "    </tr>\n",
       "    <tr>\n",
       "      <th>unique</th>\n",
       "      <td>5</td>\n",
       "      <td>2</td>\n",
       "      <td>4</td>\n",
       "      <td>2</td>\n",
       "      <td>3</td>\n",
       "      <td>3</td>\n",
       "      <td>3</td>\n",
       "      <td>4</td>\n",
       "      <td>3</td>\n",
       "      <td>3</td>\n",
       "      <td>3</td>\n",
       "      <td>3</td>\n",
       "    </tr>\n",
       "    <tr>\n",
       "      <th>top</th>\n",
       "      <td>23-40</td>\n",
       "      <td>Female (Жінка)</td>\n",
       "      <td>Ukraine, Lviv (Львів)</td>\n",
       "      <td>No</td>\n",
       "      <td>No</td>\n",
       "      <td>&lt;0.9 (negative/негативний)</td>\n",
       "      <td>&lt;0.9 (negative/негативний)</td>\n",
       "      <td>2</td>\n",
       "      <td>No</td>\n",
       "      <td>Yes</td>\n",
       "      <td>No</td>\n",
       "      <td>No</td>\n",
       "    </tr>\n",
       "    <tr>\n",
       "      <th>freq</th>\n",
       "      <td>1103</td>\n",
       "      <td>1693</td>\n",
       "      <td>2905</td>\n",
       "      <td>2371</td>\n",
       "      <td>1671</td>\n",
       "      <td>2554</td>\n",
       "      <td>2484</td>\n",
       "      <td>1308</td>\n",
       "      <td>2525</td>\n",
       "      <td>2407</td>\n",
       "      <td>2212</td>\n",
       "      <td>3094</td>\n",
       "    </tr>\n",
       "  </tbody>\n",
       "</table>\n",
       "</div>"
      ],
      "text/plain": [
       "          Age          Gender                 Region Smoke Covid  \\\n",
       "count    3100            3100                   3100  3100  3100   \n",
       "unique      5               2                      4     2     3   \n",
       "top     23-40  Female (Жінка)  Ukraine, Lviv (Львів)    No    No   \n",
       "freq     1103            1693                   2905  2371  1671   \n",
       "\n",
       "                               IgM                         IgG  Blood_group  \\\n",
       "count                         3100                        3100         3100   \n",
       "unique                           3                           3            4   \n",
       "top     <0.9 (negative/негативний)  <0.9 (negative/негативний)            2   \n",
       "freq                          2554                        2484         1308   \n",
       "\n",
       "       Vac_influenza Vac_tuberculosis Influenza Tuberculosis  \n",
       "count           3100             3100      3100         3100  \n",
       "unique             3                3         3            3  \n",
       "top               No              Yes        No           No  \n",
       "freq            2525             2407      2212         3094  "
      ]
     },
     "execution_count": 16,
     "metadata": {},
     "output_type": "execute_result"
    }
   ],
   "source": [
    "data.describe()"
   ]
  },
  {
   "cell_type": "code",
   "execution_count": 17,
   "metadata": {},
   "outputs": [],
   "source": [
    "class MultiColumnLabelEncoder:\n",
    "    def __init__(self,columns = None):\n",
    "        self.columns = columns \n",
    "        self.mappings= []\n",
    "\n",
    "    def fit(self,X,y=None):\n",
    "        return self # not relevant here\n",
    "\n",
    "    def transform(self,X):\n",
    "        '''\n",
    "        Transforms columns of X specified in self.columns using\n",
    "        LabelEncoder(). If no columns specified, transforms all\n",
    "        columns in X.\n",
    "        '''\n",
    "        output = X.copy()\n",
    "        if self.columns is not None:\n",
    "            for col in self.columns:\n",
    "                le  = LabelEncoder()\n",
    "                output[col] = le.fit_transform(output[col])\n",
    "                le_name_mapping = {col: dict(zip(le.classes_, le.transform(le.classes_)))}\n",
    "                self.mappings.append(le_name_mapping)\n",
    "        else:\n",
    "            for colname,col in output.iteritems():\n",
    "                le  = LabelEncoder()\n",
    "                output[colname] = le.fit_transform(col)\n",
    "                le_name_mapping = {colname: dict(zip(le.classes_, le.transform(le.classes_)))}\n",
    "                self.mappings.append(le_name_mapping)\n",
    "        return output, self.mappings\n",
    "\n",
    "    def fit_transform(self,X,y=None):\n",
    "        return self.fit(X,y).transform(X)\n"
   ]
  },
  {
   "cell_type": "code",
   "execution_count": 18,
   "metadata": {},
   "outputs": [],
   "source": [
    "encoded_data, mappings = MultiColumnLabelEncoder(columns = ['Age', 'Gender', 'Region', 'Smoke', 'Covid', 'IgM', 'IgG', 'Vac_influenza', 'Vac_tuberculosis', 'Influenza',\n",
    "       'Tuberculosis']).fit_transform(data)\n",
    "encoded_data['Blood_group'] = encoded_data['Blood_group'].astype(str).astype(int)"
   ]
  },
  {
   "cell_type": "code",
   "execution_count": 19,
   "metadata": {},
   "outputs": [
    {
     "data": {
      "text/html": [
       "<div>\n",
       "<style scoped>\n",
       "    .dataframe tbody tr th:only-of-type {\n",
       "        vertical-align: middle;\n",
       "    }\n",
       "\n",
       "    .dataframe tbody tr th {\n",
       "        vertical-align: top;\n",
       "    }\n",
       "\n",
       "    .dataframe thead th {\n",
       "        text-align: right;\n",
       "    }\n",
       "</style>\n",
       "<table border=\"1\" class=\"dataframe\">\n",
       "  <thead>\n",
       "    <tr style=\"text-align: right;\">\n",
       "      <th></th>\n",
       "      <th>Age</th>\n",
       "      <th>Gender</th>\n",
       "      <th>Region</th>\n",
       "      <th>Smoke</th>\n",
       "      <th>Covid</th>\n",
       "      <th>IgM</th>\n",
       "      <th>IgG</th>\n",
       "      <th>Blood_group</th>\n",
       "      <th>Vac_influenza</th>\n",
       "      <th>Vac_tuberculosis</th>\n",
       "      <th>Influenza</th>\n",
       "      <th>Tuberculosis</th>\n",
       "    </tr>\n",
       "  </thead>\n",
       "  <tbody>\n",
       "    <tr>\n",
       "      <th>0</th>\n",
       "      <td>40-65</td>\n",
       "      <td>Female (Жінка)</td>\n",
       "      <td>Ukraine, Lviv (Львів)</td>\n",
       "      <td>No</td>\n",
       "      <td>Maybe</td>\n",
       "      <td>&lt;0.9 (negative/негативний)</td>\n",
       "      <td>0.9-1.1 (indefinable/невизначений)</td>\n",
       "      <td>2</td>\n",
       "      <td>Yes</td>\n",
       "      <td>Yes</td>\n",
       "      <td>No</td>\n",
       "      <td>No</td>\n",
       "    </tr>\n",
       "    <tr>\n",
       "      <th>1</th>\n",
       "      <td>23-40</td>\n",
       "      <td>Female (Жінка)</td>\n",
       "      <td>Ukraine, Chernivtsi (Чернівці)</td>\n",
       "      <td>No</td>\n",
       "      <td>Yes</td>\n",
       "      <td>&gt;1.1 (positive/позитивний)</td>\n",
       "      <td>0.9-1.1 (indefinable/невизначений)</td>\n",
       "      <td>2</td>\n",
       "      <td>No</td>\n",
       "      <td>Yes</td>\n",
       "      <td>No</td>\n",
       "      <td>No</td>\n",
       "    </tr>\n",
       "    <tr>\n",
       "      <th>2</th>\n",
       "      <td>23-40</td>\n",
       "      <td>Female (Жінка)</td>\n",
       "      <td>Ukraine, Lviv (Львів)</td>\n",
       "      <td>No</td>\n",
       "      <td>Maybe</td>\n",
       "      <td>&lt;0.9 (negative/негативний)</td>\n",
       "      <td>&lt;0.9 (negative/негативний)</td>\n",
       "      <td>2</td>\n",
       "      <td>No</td>\n",
       "      <td>Yes</td>\n",
       "      <td>Yes</td>\n",
       "      <td>No</td>\n",
       "    </tr>\n",
       "    <tr>\n",
       "      <th>3</th>\n",
       "      <td>40-65</td>\n",
       "      <td>Male (Чоловік)</td>\n",
       "      <td>Ukraine, Chernivtsi (Чернівці)</td>\n",
       "      <td>No</td>\n",
       "      <td>No</td>\n",
       "      <td>&lt;0.9 (negative/негативний)</td>\n",
       "      <td>&lt;0.9 (negative/негативний)</td>\n",
       "      <td>2</td>\n",
       "      <td>No</td>\n",
       "      <td>Yes</td>\n",
       "      <td>No</td>\n",
       "      <td>No</td>\n",
       "    </tr>\n",
       "    <tr>\n",
       "      <th>4</th>\n",
       "      <td>16-22</td>\n",
       "      <td>Male (Чоловік)</td>\n",
       "      <td>Ukraine, Lviv (Львів)</td>\n",
       "      <td>No</td>\n",
       "      <td>Yes</td>\n",
       "      <td>&gt;1.1 (positive/позитивний)</td>\n",
       "      <td>&lt;0.9 (negative/негативний)</td>\n",
       "      <td>1</td>\n",
       "      <td>No</td>\n",
       "      <td>Yes</td>\n",
       "      <td>Yes</td>\n",
       "      <td>No</td>\n",
       "    </tr>\n",
       "    <tr>\n",
       "      <th>...</th>\n",
       "      <td>...</td>\n",
       "      <td>...</td>\n",
       "      <td>...</td>\n",
       "      <td>...</td>\n",
       "      <td>...</td>\n",
       "      <td>...</td>\n",
       "      <td>...</td>\n",
       "      <td>...</td>\n",
       "      <td>...</td>\n",
       "      <td>...</td>\n",
       "      <td>...</td>\n",
       "      <td>...</td>\n",
       "    </tr>\n",
       "    <tr>\n",
       "      <th>3228</th>\n",
       "      <td>40-65</td>\n",
       "      <td>Female (Жінка)</td>\n",
       "      <td>Ukraine, Lviv (Львів)</td>\n",
       "      <td>No</td>\n",
       "      <td>Yes</td>\n",
       "      <td>&gt;1.1 (positive/позитивний)</td>\n",
       "      <td>&gt;1.1 (positive/позитивний)</td>\n",
       "      <td>2</td>\n",
       "      <td>No</td>\n",
       "      <td>No</td>\n",
       "      <td>No</td>\n",
       "      <td>No</td>\n",
       "    </tr>\n",
       "    <tr>\n",
       "      <th>3234</th>\n",
       "      <td>23-40</td>\n",
       "      <td>Female (Жінка)</td>\n",
       "      <td>Ukraine, Lviv (Львів)</td>\n",
       "      <td>No</td>\n",
       "      <td>Yes</td>\n",
       "      <td>&lt;0.9 (negative/негативний)</td>\n",
       "      <td>&gt;1.1 (positive/позитивний)</td>\n",
       "      <td>2</td>\n",
       "      <td>No</td>\n",
       "      <td>Yes</td>\n",
       "      <td>Yes</td>\n",
       "      <td>No</td>\n",
       "    </tr>\n",
       "    <tr>\n",
       "      <th>3235</th>\n",
       "      <td>40-65</td>\n",
       "      <td>Female (Жінка)</td>\n",
       "      <td>Ukraine, Lviv (Львів)</td>\n",
       "      <td>No</td>\n",
       "      <td>Yes</td>\n",
       "      <td>&lt;0.9 (negative/негативний)</td>\n",
       "      <td>&lt;0.9 (negative/негативний)</td>\n",
       "      <td>3</td>\n",
       "      <td>Yes</td>\n",
       "      <td>Yes</td>\n",
       "      <td>No</td>\n",
       "      <td>No</td>\n",
       "    </tr>\n",
       "    <tr>\n",
       "      <th>3254</th>\n",
       "      <td>23-40</td>\n",
       "      <td>Female (Жінка)</td>\n",
       "      <td>Ukraine, Lviv (Львів)</td>\n",
       "      <td>No</td>\n",
       "      <td>Yes</td>\n",
       "      <td>&lt;0.9 (negative/негативний)</td>\n",
       "      <td>0.9-1.1 (indefinable/невизначений)</td>\n",
       "      <td>1</td>\n",
       "      <td>Yes</td>\n",
       "      <td>Yes</td>\n",
       "      <td>No</td>\n",
       "      <td>No</td>\n",
       "    </tr>\n",
       "    <tr>\n",
       "      <th>3264</th>\n",
       "      <td>16-22</td>\n",
       "      <td>Female (Жінка)</td>\n",
       "      <td>Ukraine, Lviv (Львів)</td>\n",
       "      <td>Yes</td>\n",
       "      <td>Yes</td>\n",
       "      <td>&lt;0.9 (negative/негативний)</td>\n",
       "      <td>&gt;1.1 (positive/позитивний)</td>\n",
       "      <td>2</td>\n",
       "      <td>No</td>\n",
       "      <td>Yes</td>\n",
       "      <td>No</td>\n",
       "      <td>No</td>\n",
       "    </tr>\n",
       "  </tbody>\n",
       "</table>\n",
       "<p>3100 rows × 12 columns</p>\n",
       "</div>"
      ],
      "text/plain": [
       "        Age          Gender                          Region Smoke  Covid  \\\n",
       "0     40-65  Female (Жінка)           Ukraine, Lviv (Львів)    No  Maybe   \n",
       "1     23-40  Female (Жінка)  Ukraine, Chernivtsi (Чернівці)    No    Yes   \n",
       "2     23-40  Female (Жінка)           Ukraine, Lviv (Львів)    No  Maybe   \n",
       "3     40-65  Male (Чоловік)  Ukraine, Chernivtsi (Чернівці)    No     No   \n",
       "4     16-22  Male (Чоловік)           Ukraine, Lviv (Львів)    No    Yes   \n",
       "...     ...             ...                             ...   ...    ...   \n",
       "3228  40-65  Female (Жінка)           Ukraine, Lviv (Львів)    No    Yes   \n",
       "3234  23-40  Female (Жінка)           Ukraine, Lviv (Львів)    No    Yes   \n",
       "3235  40-65  Female (Жінка)           Ukraine, Lviv (Львів)    No    Yes   \n",
       "3254  23-40  Female (Жінка)           Ukraine, Lviv (Львів)    No    Yes   \n",
       "3264  16-22  Female (Жінка)           Ukraine, Lviv (Львів)   Yes    Yes   \n",
       "\n",
       "                             IgM                                 IgG  \\\n",
       "0     <0.9 (negative/негативний)  0.9-1.1 (indefinable/невизначений)   \n",
       "1     >1.1 (positive/позитивний)  0.9-1.1 (indefinable/невизначений)   \n",
       "2     <0.9 (negative/негативний)          <0.9 (negative/негативний)   \n",
       "3     <0.9 (negative/негативний)          <0.9 (negative/негативний)   \n",
       "4     >1.1 (positive/позитивний)          <0.9 (negative/негативний)   \n",
       "...                          ...                                 ...   \n",
       "3228  >1.1 (positive/позитивний)          >1.1 (positive/позитивний)   \n",
       "3234  <0.9 (negative/негативний)          >1.1 (positive/позитивний)   \n",
       "3235  <0.9 (negative/негативний)          <0.9 (negative/негативний)   \n",
       "3254  <0.9 (negative/негативний)  0.9-1.1 (indefinable/невизначений)   \n",
       "3264  <0.9 (negative/негативний)          >1.1 (positive/позитивний)   \n",
       "\n",
       "     Blood_group Vac_influenza Vac_tuberculosis Influenza Tuberculosis  \n",
       "0              2           Yes              Yes        No           No  \n",
       "1              2            No              Yes        No           No  \n",
       "2              2            No              Yes       Yes           No  \n",
       "3              2            No              Yes        No           No  \n",
       "4              1            No              Yes       Yes           No  \n",
       "...          ...           ...              ...       ...          ...  \n",
       "3228           2            No               No        No           No  \n",
       "3234           2            No              Yes       Yes           No  \n",
       "3235           3           Yes              Yes        No           No  \n",
       "3254           1           Yes              Yes        No           No  \n",
       "3264           2            No              Yes        No           No  \n",
       "\n",
       "[3100 rows x 12 columns]"
      ]
     },
     "execution_count": 19,
     "metadata": {},
     "output_type": "execute_result"
    }
   ],
   "source": [
    "data"
   ]
  },
  {
   "cell_type": "code",
   "execution_count": 20,
   "metadata": {},
   "outputs": [
    {
     "data": {
      "text/html": [
       "<div>\n",
       "<style scoped>\n",
       "    .dataframe tbody tr th:only-of-type {\n",
       "        vertical-align: middle;\n",
       "    }\n",
       "\n",
       "    .dataframe tbody tr th {\n",
       "        vertical-align: top;\n",
       "    }\n",
       "\n",
       "    .dataframe thead th {\n",
       "        text-align: right;\n",
       "    }\n",
       "</style>\n",
       "<table border=\"1\" class=\"dataframe\">\n",
       "  <thead>\n",
       "    <tr style=\"text-align: right;\">\n",
       "      <th></th>\n",
       "      <th>Age</th>\n",
       "      <th>Gender</th>\n",
       "      <th>Region</th>\n",
       "      <th>Smoke</th>\n",
       "      <th>Covid</th>\n",
       "      <th>IgM</th>\n",
       "      <th>IgG</th>\n",
       "      <th>Blood_group</th>\n",
       "      <th>Vac_influenza</th>\n",
       "      <th>Vac_tuberculosis</th>\n",
       "      <th>Influenza</th>\n",
       "      <th>Tuberculosis</th>\n",
       "    </tr>\n",
       "  </thead>\n",
       "  <tbody>\n",
       "    <tr>\n",
       "      <th>0</th>\n",
       "      <td>3</td>\n",
       "      <td>0</td>\n",
       "      <td>3</td>\n",
       "      <td>0</td>\n",
       "      <td>0</td>\n",
       "      <td>1</td>\n",
       "      <td>0</td>\n",
       "      <td>2</td>\n",
       "      <td>2</td>\n",
       "      <td>2</td>\n",
       "      <td>1</td>\n",
       "      <td>1</td>\n",
       "    </tr>\n",
       "    <tr>\n",
       "      <th>1</th>\n",
       "      <td>2</td>\n",
       "      <td>0</td>\n",
       "      <td>2</td>\n",
       "      <td>0</td>\n",
       "      <td>2</td>\n",
       "      <td>2</td>\n",
       "      <td>0</td>\n",
       "      <td>2</td>\n",
       "      <td>1</td>\n",
       "      <td>2</td>\n",
       "      <td>1</td>\n",
       "      <td>1</td>\n",
       "    </tr>\n",
       "    <tr>\n",
       "      <th>2</th>\n",
       "      <td>2</td>\n",
       "      <td>0</td>\n",
       "      <td>3</td>\n",
       "      <td>0</td>\n",
       "      <td>0</td>\n",
       "      <td>1</td>\n",
       "      <td>1</td>\n",
       "      <td>2</td>\n",
       "      <td>1</td>\n",
       "      <td>2</td>\n",
       "      <td>2</td>\n",
       "      <td>1</td>\n",
       "    </tr>\n",
       "    <tr>\n",
       "      <th>3</th>\n",
       "      <td>3</td>\n",
       "      <td>1</td>\n",
       "      <td>2</td>\n",
       "      <td>0</td>\n",
       "      <td>1</td>\n",
       "      <td>1</td>\n",
       "      <td>1</td>\n",
       "      <td>2</td>\n",
       "      <td>1</td>\n",
       "      <td>2</td>\n",
       "      <td>1</td>\n",
       "      <td>1</td>\n",
       "    </tr>\n",
       "    <tr>\n",
       "      <th>4</th>\n",
       "      <td>1</td>\n",
       "      <td>1</td>\n",
       "      <td>3</td>\n",
       "      <td>0</td>\n",
       "      <td>2</td>\n",
       "      <td>2</td>\n",
       "      <td>1</td>\n",
       "      <td>1</td>\n",
       "      <td>1</td>\n",
       "      <td>2</td>\n",
       "      <td>2</td>\n",
       "      <td>1</td>\n",
       "    </tr>\n",
       "    <tr>\n",
       "      <th>...</th>\n",
       "      <td>...</td>\n",
       "      <td>...</td>\n",
       "      <td>...</td>\n",
       "      <td>...</td>\n",
       "      <td>...</td>\n",
       "      <td>...</td>\n",
       "      <td>...</td>\n",
       "      <td>...</td>\n",
       "      <td>...</td>\n",
       "      <td>...</td>\n",
       "      <td>...</td>\n",
       "      <td>...</td>\n",
       "    </tr>\n",
       "    <tr>\n",
       "      <th>3228</th>\n",
       "      <td>3</td>\n",
       "      <td>0</td>\n",
       "      <td>3</td>\n",
       "      <td>0</td>\n",
       "      <td>2</td>\n",
       "      <td>2</td>\n",
       "      <td>2</td>\n",
       "      <td>2</td>\n",
       "      <td>1</td>\n",
       "      <td>1</td>\n",
       "      <td>1</td>\n",
       "      <td>1</td>\n",
       "    </tr>\n",
       "    <tr>\n",
       "      <th>3234</th>\n",
       "      <td>2</td>\n",
       "      <td>0</td>\n",
       "      <td>3</td>\n",
       "      <td>0</td>\n",
       "      <td>2</td>\n",
       "      <td>1</td>\n",
       "      <td>2</td>\n",
       "      <td>2</td>\n",
       "      <td>1</td>\n",
       "      <td>2</td>\n",
       "      <td>2</td>\n",
       "      <td>1</td>\n",
       "    </tr>\n",
       "    <tr>\n",
       "      <th>3235</th>\n",
       "      <td>3</td>\n",
       "      <td>0</td>\n",
       "      <td>3</td>\n",
       "      <td>0</td>\n",
       "      <td>2</td>\n",
       "      <td>1</td>\n",
       "      <td>1</td>\n",
       "      <td>3</td>\n",
       "      <td>2</td>\n",
       "      <td>2</td>\n",
       "      <td>1</td>\n",
       "      <td>1</td>\n",
       "    </tr>\n",
       "    <tr>\n",
       "      <th>3254</th>\n",
       "      <td>2</td>\n",
       "      <td>0</td>\n",
       "      <td>3</td>\n",
       "      <td>0</td>\n",
       "      <td>2</td>\n",
       "      <td>1</td>\n",
       "      <td>0</td>\n",
       "      <td>1</td>\n",
       "      <td>2</td>\n",
       "      <td>2</td>\n",
       "      <td>1</td>\n",
       "      <td>1</td>\n",
       "    </tr>\n",
       "    <tr>\n",
       "      <th>3264</th>\n",
       "      <td>1</td>\n",
       "      <td>0</td>\n",
       "      <td>3</td>\n",
       "      <td>1</td>\n",
       "      <td>2</td>\n",
       "      <td>1</td>\n",
       "      <td>2</td>\n",
       "      <td>2</td>\n",
       "      <td>1</td>\n",
       "      <td>2</td>\n",
       "      <td>1</td>\n",
       "      <td>1</td>\n",
       "    </tr>\n",
       "  </tbody>\n",
       "</table>\n",
       "<p>3100 rows × 12 columns</p>\n",
       "</div>"
      ],
      "text/plain": [
       "      Age  Gender  Region  Smoke  Covid  IgM  IgG  Blood_group  Vac_influenza  \\\n",
       "0       3       0       3      0      0    1    0            2              2   \n",
       "1       2       0       2      0      2    2    0            2              1   \n",
       "2       2       0       3      0      0    1    1            2              1   \n",
       "3       3       1       2      0      1    1    1            2              1   \n",
       "4       1       1       3      0      2    2    1            1              1   \n",
       "...   ...     ...     ...    ...    ...  ...  ...          ...            ...   \n",
       "3228    3       0       3      0      2    2    2            2              1   \n",
       "3234    2       0       3      0      2    1    2            2              1   \n",
       "3235    3       0       3      0      2    1    1            3              2   \n",
       "3254    2       0       3      0      2    1    0            1              2   \n",
       "3264    1       0       3      1      2    1    2            2              1   \n",
       "\n",
       "      Vac_tuberculosis  Influenza  Tuberculosis  \n",
       "0                    2          1             1  \n",
       "1                    2          1             1  \n",
       "2                    2          2             1  \n",
       "3                    2          1             1  \n",
       "4                    2          2             1  \n",
       "...                ...        ...           ...  \n",
       "3228                 1          1             1  \n",
       "3234                 2          2             1  \n",
       "3235                 2          1             1  \n",
       "3254                 2          1             1  \n",
       "3264                 2          1             1  \n",
       "\n",
       "[3100 rows x 12 columns]"
      ]
     },
     "execution_count": 20,
     "metadata": {},
     "output_type": "execute_result"
    }
   ],
   "source": [
    "encoded_data"
   ]
  },
  {
   "cell_type": "code",
   "execution_count": 21,
   "metadata": {},
   "outputs": [
    {
     "data": {
      "text/plain": [
       "[{'Age': {'0-15': 0, '16-22': 1, '23-40': 2, '40-65': 3, '>65': 4}},\n",
       " {'Gender': {'Female (Жінка)': 0, 'Male (Чоловік)': 1}},\n",
       " {'Region': {'Germany': 0,\n",
       "   'Other (Інше)': 1,\n",
       "   'Ukraine, Chernivtsi (Чернівці)': 2,\n",
       "   'Ukraine, Lviv (Львів)': 3}},\n",
       " {'Smoke': {'No': 0, 'Yes': 1}},\n",
       " {'Covid': {'Maybe': 0, 'No': 1, 'Yes': 2}},\n",
       " {'IgM': {'0.9-1.1 (indefinable/невизначений)': 0,\n",
       "   '<0.9 (negative/негативний)': 1,\n",
       "   '>1.1 (positive/позитивний)': 2}},\n",
       " {'IgG': {'0.9-1.1 (indefinable/невизначений)': 0,\n",
       "   '<0.9 (negative/негативний)': 1,\n",
       "   '>1.1 (positive/позитивний)': 2}},\n",
       " {'Vac_influenza': {'Maybe': 0, 'No': 1, 'Yes': 2}},\n",
       " {'Vac_tuberculosis': {'Maybe': 0, 'No': 1, 'Yes': 2}},\n",
       " {'Influenza': {'Maybe': 0, 'No': 1, 'Yes': 2}},\n",
       " {'Tuberculosis': {'Maybe': 0, 'No': 1, 'Yes': 2}}]"
      ]
     },
     "execution_count": 21,
     "metadata": {},
     "output_type": "execute_result"
    }
   ],
   "source": [
    "mappings"
   ]
  },
  {
   "cell_type": "code",
   "execution_count": 32,
   "metadata": {},
   "outputs": [
    {
     "data": {
      "text/plain": [
       "<matplotlib.axes._subplots.AxesSubplot at 0x25802be3700>"
      ]
     },
     "execution_count": 32,
     "metadata": {},
     "output_type": "execute_result"
    },
    {
     "data": {
      "image/png": "[encoded data removed]",
      "text/plain": [
       "<Figure size 864x432 with 2 Axes>"
      ]
     },
     "metadata": {
      "needs_background": "light"
     },
     "output_type": "display_data"
    }
   ],
   "source": [
    "covid_data = encoded_data\n",
    "plt.figure(figsize=(12,6))\n",
    "sns.heatmap(covid_data.corr(),cmap='coolwarm')"
   ]
  },
  {
   "cell_type": "code",
   "execution_count": 34,
   "metadata": {},
   "outputs": [
    {
     "data": {
      "text/plain": [
       "Age                 0.110437\n",
       "Gender             -0.031496\n",
       "Region              0.022444\n",
       "Smoke              -0.054385\n",
       "Covid               1.000000\n",
       "IgM                 0.524677\n",
       "IgG                 0.258166\n",
       "Blood_group         0.042073\n",
       "Vac_influenza       0.013101\n",
       "Vac_tuberculosis    0.098533\n",
       "Influenza           0.067124\n",
       "Tuberculosis       -0.030101\n",
       "dtype: float64"
      ]
     },
     "execution_count": 34,
     "metadata": {},
     "output_type": "execute_result"
    },
    {
     "data": {
      "text/plain": [
       "<Figure size 1440x864 with 0 Axes>"
      ]
     },
     "metadata": {},
     "output_type": "display_data"
    }
   ],
   "source": [
    "plt.figure(figsize=(20,12))\n",
    "covid_data.corrwith(covid_data['Covid'])"
   ]
  },
  {
   "cell_type": "code",
   "execution_count": 35,
   "metadata": {},
   "outputs": [
    {
     "name": "stdout",
     "output_type": "stream",
     "text": [
      "Age\n",
      "0.08991676585706317\n",
      " \n",
      "Gender\n",
      "0.16920294538294361\n",
      " \n",
      "Region\n",
      "0.014975011286234375\n",
      " \n",
      "Smoke\n",
      "0.09019461946935867\n",
      " \n",
      "Covid\n",
      "1.0\n",
      " \n",
      "IgM\n",
      "0.5037384038652636\n",
      " \n",
      "IgG\n",
      "0.2495389255456485\n",
      " \n",
      "Blood_group\n",
      "0.03731400197768729\n",
      " \n",
      "Vac_influenza\n",
      "-0.03077145632535551\n",
      " \n",
      "Vac_tuberculosis\n",
      "0.09747525706989846\n",
      " \n",
      "Influenza\n",
      "0.08739769472579288\n",
      " \n",
      "Tuberculosis\n",
      "0.013361994769945405\n",
      " \n"
     ]
    }
   ],
   "source": [
    "for col in covid_data:\n",
    "    print(col)\n",
    "    print(matthews_corrcoef(covid_data[col], covid_data['Covid']))\n",
    "    print(\" \")"
   ]
  },
  {
   "cell_type": "code",
   "execution_count": 36,
   "metadata": {},
   "outputs": [
    {
     "name": "stdout",
     "output_type": "stream",
     "text": [
      "Age\n",
      "0      42\n",
      "1     794\n",
      "2    1103\n",
      "3     991\n",
      "4     170\n",
      "dtype: int64\n"
     ]
    },
    {
     "data": {
      "text/plain": [
       "<matplotlib.axes._subplots.AxesSubplot at 0x2360103cd60>"
      ]
     },
     "execution_count": 36,
     "metadata": {},
     "output_type": "execute_result"
    },
    {
     "data": {
      "image/png": "[encoded data removed]",
      "text/plain": [
       "<Figure size 432x288 with 1 Axes>"
      ]
     },
     "metadata": {
      "needs_background": "light"
     },
     "output_type": "display_data"
    }
   ],
   "source": [
    "grouped_age_data=covid_data.groupby(by='Age').size()\n",
    "print(grouped_age_data)\n",
    " \n",
    "# Generating a bar chart for a single column\n",
    "%matplotlib inline\n",
    "grouped_age_data.plot.bar()"
   ]
  },
  {
   "cell_type": "code",
   "execution_count": 37,
   "metadata": {},
   "outputs": [
    {
     "name": "stdout",
     "output_type": "stream",
     "text": [
      "Covid\n",
      "0     507\n",
      "1    1671\n",
      "2     922\n",
      "dtype: int64\n"
     ]
    },
    {
     "data": {
      "text/plain": [
       "<matplotlib.axes._subplots.AxesSubplot at 0x2360109f4f0>"
      ]
     },
     "execution_count": 37,
     "metadata": {},
     "output_type": "execute_result"
    },
    {
     "data": {
      "image/png": "[encoded data removed]",
      "text/plain": [
       "<Figure size 432x288 with 1 Axes>"
      ]
     },
     "metadata": {
      "needs_background": "light"
     },
     "output_type": "display_data"
    }
   ],
   "source": [
    "grouped_covid_data=covid_data.groupby(by='Covid').size()\n",
    "print(grouped_covid_data)\n",
    " \n",
    "# Generating a bar chart for a single column\n",
    "%matplotlib inline\n",
    "grouped_covid_data.plot.bar()"
   ]
  },
  {
   "cell_type": "code",
   "execution_count": 38,
   "metadata": {},
   "outputs": [
    {
     "name": "stdout",
     "output_type": "stream",
     "text": [
      "Gender\n",
      "0    1693\n",
      "1    1407\n",
      "dtype: int64\n"
     ]
    },
    {
     "data": {
      "text/plain": [
       "<matplotlib.axes._subplots.AxesSubplot at 0x2360110aa30>"
      ]
     },
     "execution_count": 38,
     "metadata": {},
     "output_type": "execute_result"
    },
    {
     "data": {
      "image/png": "[encoded data removed]",
      "text/plain": [
       "<Figure size 432x288 with 1 Axes>"
      ]
     },
     "metadata": {
      "needs_background": "light"
     },
     "output_type": "display_data"
    }
   ],
   "source": [
    "grouped_gender_data=covid_data.groupby(by='Gender').size()\n",
    "print(grouped_gender_data)\n",
    " \n",
    "# Generating a bar chart for a single column\n",
    "%matplotlib inline\n",
    "grouped_gender_data.plot.bar()"
   ]
  },
  {
   "cell_type": "code",
   "execution_count": 39,
   "metadata": {},
   "outputs": [
    {
     "name": "stdout",
     "output_type": "stream",
     "text": [
      "Smoke\n",
      "0    2371\n",
      "1     729\n",
      "dtype: int64\n"
     ]
    },
    {
     "data": {
      "text/plain": [
       "<matplotlib.axes._subplots.AxesSubplot at 0x236011390a0>"
      ]
     },
     "execution_count": 39,
     "metadata": {},
     "output_type": "execute_result"
    },
    {
     "data": {
      "image/png": "[encoded data removed]",
      "text/plain": [
       "<Figure size 432x288 with 1 Axes>"
      ]
     },
     "metadata": {
      "needs_background": "light"
     },
     "output_type": "display_data"
    }
   ],
   "source": [
    "grouped_smoke_data=covid_data.groupby(by='Smoke').size()\n",
    "print(grouped_smoke_data)\n",
    " \n",
    "# Generating a bar chart for a single column\n",
    "%matplotlib inline\n",
    "grouped_smoke_data.plot.bar()"
   ]
  },
  {
   "cell_type": "code",
   "execution_count": 40,
   "metadata": {},
   "outputs": [
    {
     "name": "stdout",
     "output_type": "stream",
     "text": [
      "Blood_group\n",
      "1    1072\n",
      "2    1308\n",
      "3     475\n",
      "4     245\n",
      "dtype: int64\n"
     ]
    },
    {
     "data": {
      "text/plain": [
       "<matplotlib.axes._subplots.AxesSubplot at 0x236022fdf40>"
      ]
     },
     "execution_count": 40,
     "metadata": {},
     "output_type": "execute_result"
    },
    {
     "data": {
      "image/png": "[encoded data removed]",
      "text/plain": [
       "<Figure size 432x288 with 1 Axes>"
      ]
     },
     "metadata": {
      "needs_background": "light"
     },
     "output_type": "display_data"
    }
   ],
   "source": [
    "grouped_blood_data=covid_data.groupby(by='Blood_group').size()\n",
    "print(grouped_blood_data)\n",
    " \n",
    "# Generating a bar chart for a single column\n",
    "%matplotlib inline\n",
    "grouped_blood_data.plot.bar()"
   ]
  },
  {
   "cell_type": "code",
   "execution_count": 41,
   "metadata": {},
   "outputs": [
    {
     "name": "stdout",
     "output_type": "stream",
     "text": [
      "Vac_influenza\n",
      "0      90\n",
      "1    2525\n",
      "2     485\n",
      "dtype: int64\n"
     ]
    },
    {
     "data": {
      "text/plain": [
       "<matplotlib.axes._subplots.AxesSubplot at 0x23602347850>"
      ]
     },
     "execution_count": 41,
     "metadata": {},
     "output_type": "execute_result"
    },
    {
     "data": {
      "image/png": "[encoded data removed]",
      "text/plain": [
       "<Figure size 432x288 with 1 Axes>"
      ]
     },
     "metadata": {
      "needs_background": "light"
     },
     "output_type": "display_data"
    }
   ],
   "source": [
    "grouped_influenza_data=covid_data.groupby(by='Vac_influenza').size()\n",
    "print(grouped_influenza_data)\n",
    " \n",
    "# Generating a bar chart for a single column\n",
    "%matplotlib inline\n",
    "grouped_influenza_data.plot.bar()"
   ]
  },
  {
   "cell_type": "code",
   "execution_count": 42,
   "metadata": {},
   "outputs": [
    {
     "name": "stdout",
     "output_type": "stream",
     "text": [
      "Vac_tuberculosis\n",
      "0     229\n",
      "1     464\n",
      "2    2407\n",
      "dtype: int64\n"
     ]
    },
    {
     "data": {
      "text/plain": [
       "<matplotlib.axes._subplots.AxesSubplot at 0x236010b6b50>"
      ]
     },
     "execution_count": 42,
     "metadata": {},
     "output_type": "execute_result"
    },
    {
     "data": {
      "image/png": "[encoded data removed]",
      "text/plain": [
       "<Figure size 432x288 with 1 Axes>"
      ]
     },
     "metadata": {
      "needs_background": "light"
     },
     "output_type": "display_data"
    }
   ],
   "source": [
    "grouped_tuberc_data=covid_data.groupby(by='Vac_tuberculosis').size()\n",
    "print(grouped_tuberc_data)\n",
    " \n",
    "# Generating a bar chart for a single column\n",
    "%matplotlib inline\n",
    "grouped_tuberc_data.plot.bar()"
   ]
  },
  {
   "cell_type": "code",
   "execution_count": 43,
   "metadata": {},
   "outputs": [
    {
     "name": "stdout",
     "output_type": "stream",
     "text": [
      "Influenza\n",
      "0     384\n",
      "1    2212\n",
      "2     504\n",
      "dtype: int64\n"
     ]
    },
    {
     "data": {
      "text/plain": [
       "<matplotlib.axes._subplots.AxesSubplot at 0x2360079bb20>"
      ]
     },
     "execution_count": 43,
     "metadata": {},
     "output_type": "execute_result"
    },
    {
     "data": {
      "image/png": "[encoded data removed]",
      "text/plain": [
       "<Figure size 432x288 with 1 Axes>"
      ]
     },
     "metadata": {
      "needs_background": "light"
     },
     "output_type": "display_data"
    }
   ],
   "source": [
    "grouped_influenz_data=covid_data.groupby(by='Influenza').size()\n",
    "print(grouped_influenz_data)\n",
    " \n",
    "# Generating a bar chart for a single column\n",
    "%matplotlib inline\n",
    "grouped_influenz_data.plot.bar()"
   ]
  },
  {
   "cell_type": "code",
   "execution_count": 44,
   "metadata": {},
   "outputs": [
    {
     "name": "stdout",
     "output_type": "stream",
     "text": [
      "Tuberculosis\n",
      "0       4\n",
      "1    3094\n",
      "2       2\n",
      "dtype: int64\n"
     ]
    },
    {
     "data": {
      "text/plain": [
       "<matplotlib.axes._subplots.AxesSubplot at 0x23600bd3190>"
      ]
     },
     "execution_count": 44,
     "metadata": {},
     "output_type": "execute_result"
    },
    {
     "data": {
      "image/png": "[encoded data removed]",
      "text/plain": [
       "<Figure size 432x288 with 1 Axes>"
      ]
     },
     "metadata": {
      "needs_background": "light"
     },
     "output_type": "display_data"
    }
   ],
   "source": [
    "grouped_tuberculosis_data=covid_data.groupby(by='Tuberculosis').size()\n",
    "print(grouped_tuberculosis_data)\n",
    " \n",
    "# Generating a bar chart for a single column\n",
    "%matplotlib inline\n",
    "grouped_tuberculosis_data.plot.bar()"
   ]
  },
  {
   "cell_type": "code",
   "execution_count": 45,
   "metadata": {},
   "outputs": [
    {
     "name": "stdout",
     "output_type": "stream",
     "text": [
      "IgM\n",
      "0      90\n",
      "1    2554\n",
      "2     456\n",
      "dtype: int64\n"
     ]
    },
    {
     "data": {
      "text/plain": [
       "<matplotlib.axes._subplots.AxesSubplot at 0x23600c2c190>"
      ]
     },
     "execution_count": 45,
     "metadata": {},
     "output_type": "execute_result"
    },
    {
     "data": {
      "image/png": "[encoded data removed]",
      "text/plain": [
       "<Figure size 432x288 with 1 Axes>"
      ]
     },
     "metadata": {
      "needs_background": "light"
     },
     "output_type": "display_data"
    }
   ],
   "source": [
    "grouped_igm_data=covid_data.groupby(by='IgM').size()\n",
    "print(grouped_igm_data)\n",
    " \n",
    "# Generating a bar chart for a single column\n",
    "%matplotlib inline\n",
    "grouped_igm_data.plot.bar()"
   ]
  },
  {
   "cell_type": "code",
   "execution_count": 46,
   "metadata": {},
   "outputs": [
    {
     "name": "stdout",
     "output_type": "stream",
     "text": [
      "IgG\n",
      "0     283\n",
      "1    2484\n",
      "2     333\n",
      "dtype: int64\n"
     ]
    },
    {
     "data": {
      "text/plain": [
       "<matplotlib.axes._subplots.AxesSubplot at 0x23600c7f610>"
      ]
     },
     "execution_count": 46,
     "metadata": {},
     "output_type": "execute_result"
    },
    {
     "data": {
      "image/png": "[encoded data removed]",
      "text/plain": [
       "<Figure size 432x288 with 1 Axes>"
      ]
     },
     "metadata": {
      "needs_background": "light"
     },
     "output_type": "display_data"
    }
   ],
   "source": [
    "grouped_igg_data=covid_data.groupby(by='IgG').size()\n",
    "print(grouped_igg_data)\n",
    " \n",
    "# Generating a bar chart for a single column\n",
    "%matplotlib inline\n",
    "grouped_igg_data.plot.bar()"
   ]
  },
  {
   "cell_type": "code",
   "execution_count": 33,
   "metadata": {},
   "outputs": [],
   "source": [
    "catColumnsPos = [covid_data.columns.get_loc(col) for col in list(covid_data.columns)]\n"
   ]
  },
  {
   "cell_type": "code",
   "execution_count": 34,
   "metadata": {},
   "outputs": [],
   "source": [
    "dfMatrix = covid_data.to_numpy()"
   ]
  },
  {
   "cell_type": "code",
   "execution_count": 35,
   "metadata": {},
   "outputs": [],
   "source": [
    "# Choose optimal K using Elbow method\n",
    "import plotnine\n",
    "import ggplot\n",
    "cost = []\n",
    "for cluster in range(1, 10):\n",
    "    try:\n",
    "        k_modes = KModes(n_jobs = -1, n_clusters = cluster, init = 'Huang', random_state = 0)\n",
    "        k_modes.fit_predict(dfMatrix, categorical = catColumnsPos)\n",
    "        cost.append(k_modes.cost_)\n",
    "        print('Cluster initiation: {}'.format(cluster))\n",
    "    except:\n",
    "        break\n",
    "print(cost)\n",
    "# Converting the results into a dataframe and plotting them\n",
    "df_cost = pd.DataFrame({'Cluster':range(1, 10), 'Cost':cost})\n",
    "# Data viz\n",
    "plotnine.options.figure_size = (8, 4.8)\n",
    "(\n",
    "    ggplot(data = df_cost)+\n",
    "    geom_line(aes(x = 'Cluster',\n",
    "                  y = 'Cost'))+\n",
    "    geom_point(aes(x = 'Cluster',\n",
    "                   y = 'Cost'))+\n",
    "    geom_label(aes(x = 'Cluster',\n",
    "                   y = 'Cost',\n",
    "                   label = 'Cluster'),\n",
    "               size = 7,\n",
    "               nudge_y = 3) +\n",
    "    labs(title = 'Optimal number of cluster with Elbow Method')+\n",
    "    xlab('Number of Clusters k')+\n",
    "    ylab('Cost')+\n",
    "    theme_minimal()\n",
    ")"
   ]
  },
  {
   "cell_type": "code",
   "execution_count": 36,
   "metadata": {},
   "outputs": [
    {
     "data": {
      "text/plain": [
       "array([1, 3, 2, ..., 0, 3, 3], dtype=uint16)"
      ]
     },
     "execution_count": 36,
     "metadata": {},
     "output_type": "execute_result"
    }
   ],
   "source": [
    "from kmodes.kmodes  import KModes\n",
    "k_modes = KModes(n_jobs = -1, n_clusters = 5, init = 'Huang', random_state = 0)\n",
    "k_modes.fit_predict(dfMatrix, categorical = catColumnsPos)"
   ]
  },
  {
   "cell_type": "code",
   "execution_count": 37,
   "metadata": {},
   "outputs": [
    {
     "data": {
      "text/plain": [
       "array([[3, 1, 3, 0, 1, 1, 1, 3, 1, 2, 1, 1],\n",
       "       [3, 0, 3, 0, 0, 1, 1, 1, 1, 2, 1, 1],\n",
       "       [2, 0, 3, 0, 1, 1, 1, 1, 1, 2, 2, 1],\n",
       "       [2, 0, 3, 0, 2, 1, 2, 2, 1, 2, 1, 1],\n",
       "       [1, 1, 3, 1, 1, 1, 1, 2, 1, 2, 1, 1]])"
      ]
     },
     "execution_count": 37,
     "metadata": {},
     "output_type": "execute_result"
    }
   ],
   "source": [
    "k_modes.cluster_centroids_"
   ]
  },
  {
   "cell_type": "code",
   "execution_count": 38,
   "metadata": {},
   "outputs": [],
   "source": [
    "data_with_clusters = encoded_data"
   ]
  },
  {
   "cell_type": "code",
   "execution_count": 39,
   "metadata": {},
   "outputs": [],
   "source": [
    "# Add the cluster to the dataframe\n",
    "data_with_clusters['Cluster Labels'] = k_modes.labels_\n",
    "data_with_clusters['Segment'] = data_with_clusters['Cluster Labels'].map({0:'First', 1:'Second', 2:'Third', 3: 'Fourth', 4: 'Fifth'})\n",
    "# Order the cluster\n",
    "data_with_clusters['Segment'] = data_with_clusters['Segment'].astype('category')\n",
    "data_with_clusters['Segment'] = data_with_clusters['Segment'].cat.reorder_categories(['First','Second','Third', 'Fourth', 'Fifth'])"
   ]
  },
  {
   "cell_type": "code",
   "execution_count": 40,
   "metadata": {},
   "outputs": [
    {
     "data": {
      "text/html": [
       "<div>\n",
       "<style scoped>\n",
       "    .dataframe tbody tr th:only-of-type {\n",
       "        vertical-align: middle;\n",
       "    }\n",
       "\n",
       "    .dataframe tbody tr th {\n",
       "        vertical-align: top;\n",
       "    }\n",
       "\n",
       "    .dataframe thead th {\n",
       "        text-align: right;\n",
       "    }\n",
       "</style>\n",
       "<table border=\"1\" class=\"dataframe\">\n",
       "  <thead>\n",
       "    <tr style=\"text-align: right;\">\n",
       "      <th></th>\n",
       "      <th>Segment</th>\n",
       "      <th>Total</th>\n",
       "      <th>Age</th>\n",
       "      <th>Gender</th>\n",
       "      <th>Region</th>\n",
       "      <th>Smoke</th>\n",
       "      <th>Covid</th>\n",
       "      <th>IgM</th>\n",
       "      <th>IgG</th>\n",
       "      <th>Blood_group</th>\n",
       "      <th>Vac_influenza</th>\n",
       "      <th>Influenza</th>\n",
       "      <th>Tuberculosis</th>\n",
       "      <th>Vac_tuberculosis</th>\n",
       "    </tr>\n",
       "  </thead>\n",
       "  <tbody>\n",
       "    <tr>\n",
       "      <th>0</th>\n",
       "      <td>First</td>\n",
       "      <td>925</td>\n",
       "      <td>3</td>\n",
       "      <td>1</td>\n",
       "      <td>3</td>\n",
       "      <td>0</td>\n",
       "      <td>1</td>\n",
       "      <td>1.091892</td>\n",
       "      <td>0.910270</td>\n",
       "      <td>3</td>\n",
       "      <td>1</td>\n",
       "      <td>1</td>\n",
       "      <td>1</td>\n",
       "      <td>2</td>\n",
       "    </tr>\n",
       "    <tr>\n",
       "      <th>1</th>\n",
       "      <td>Second</td>\n",
       "      <td>745</td>\n",
       "      <td>3</td>\n",
       "      <td>0</td>\n",
       "      <td>3</td>\n",
       "      <td>0</td>\n",
       "      <td>0</td>\n",
       "      <td>1.130201</td>\n",
       "      <td>1.006711</td>\n",
       "      <td>1</td>\n",
       "      <td>1</td>\n",
       "      <td>1</td>\n",
       "      <td>1</td>\n",
       "      <td>2</td>\n",
       "    </tr>\n",
       "    <tr>\n",
       "      <th>2</th>\n",
       "      <td>Third</td>\n",
       "      <td>460</td>\n",
       "      <td>2</td>\n",
       "      <td>0</td>\n",
       "      <td>3</td>\n",
       "      <td>0</td>\n",
       "      <td>1</td>\n",
       "      <td>1.115217</td>\n",
       "      <td>0.971739</td>\n",
       "      <td>1</td>\n",
       "      <td>1</td>\n",
       "      <td>2</td>\n",
       "      <td>1</td>\n",
       "      <td>2</td>\n",
       "    </tr>\n",
       "    <tr>\n",
       "      <th>3</th>\n",
       "      <td>Fourth</td>\n",
       "      <td>423</td>\n",
       "      <td>2</td>\n",
       "      <td>0</td>\n",
       "      <td>3</td>\n",
       "      <td>0</td>\n",
       "      <td>2</td>\n",
       "      <td>1.297872</td>\n",
       "      <td>1.456265</td>\n",
       "      <td>2</td>\n",
       "      <td>1</td>\n",
       "      <td>1</td>\n",
       "      <td>1</td>\n",
       "      <td>2</td>\n",
       "    </tr>\n",
       "    <tr>\n",
       "      <th>4</th>\n",
       "      <td>Fifth</td>\n",
       "      <td>547</td>\n",
       "      <td>1</td>\n",
       "      <td>1</td>\n",
       "      <td>3</td>\n",
       "      <td>1</td>\n",
       "      <td>1</td>\n",
       "      <td>1.009141</td>\n",
       "      <td>0.904936</td>\n",
       "      <td>2</td>\n",
       "      <td>1</td>\n",
       "      <td>1</td>\n",
       "      <td>1</td>\n",
       "      <td>2</td>\n",
       "    </tr>\n",
       "  </tbody>\n",
       "</table>\n",
       "</div>"
      ],
      "text/plain": [
       "  Segment  Total  Age  Gender  Region  Smoke  Covid       IgM       IgG  \\\n",
       "0   First    925    3       1       3      0      1  1.091892  0.910270   \n",
       "1  Second    745    3       0       3      0      0  1.130201  1.006711   \n",
       "2   Third    460    2       0       3      0      1  1.115217  0.971739   \n",
       "3  Fourth    423    2       0       3      0      2  1.297872  1.456265   \n",
       "4   Fifth    547    1       1       3      1      1  1.009141  0.904936   \n",
       "\n",
       "   Blood_group  Vac_influenza  Influenza  Tuberculosis  Vac_tuberculosis  \n",
       "0            3              1          1             1                 2  \n",
       "1            1              1          1             1                 2  \n",
       "2            1              1          2             1                 2  \n",
       "3            2              1          1             1                 2  \n",
       "4            2              1          1             1                 2  "
      ]
     },
     "execution_count": 40,
     "metadata": {},
     "output_type": "execute_result"
    }
   ],
   "source": [
    "# Cluster interpretation\n",
    "data_with_clusters.rename(columns = {'Cluster Labels':'Total'}, inplace = True)\n",
    "data_with_clusters.groupby('Segment').agg(\n",
    "    {\n",
    "        'Total':'count',\n",
    "        'Age': lambda x: x.value_counts().index[0],\n",
    "        'Gender': lambda x: x.value_counts().index[0],\n",
    "        'Region': lambda x: x.value_counts().index[0],\n",
    "        'Smoke': lambda x: x.value_counts().index[0],\n",
    "        'Covid':  lambda x: x.value_counts().index[0],\n",
    "        'IgM': 'mean',\n",
    "        'IgG': 'mean',\n",
    "        'Blood_group':  lambda x: x.value_counts().index[0],\n",
    "        'Vac_influenza':  lambda x: x.value_counts().index[0],\n",
    "        'Influenza':  lambda x: x.value_counts().index[0],\n",
    "        'Tuberculosis':  lambda x: x.value_counts().index[0],\n",
    "        'Vac_tuberculosis':  lambda x: x.value_counts().index[0],\n",
    "    }\n",
    ").reset_index()"
   ]
  },
  {
   "cell_type": "markdown",
   "metadata": {},
   "source": [
    "Models trainings"
   ]
  },
  {
   "cell_type": "code",
   "execution_count": 22,
   "metadata": {},
   "outputs": [],
   "source": [
    "y = encoded_data[\"Covid\"]\n",
    "X = encoded_data.drop(columns = \"Covid\")\n",
    "X_train, X_test, y_train, y_test = train_test_split(X, y,test_size=0.25,train_size=0.75)"
   ]
  },
  {
   "cell_type": "code",
   "execution_count": 23,
   "metadata": {},
   "outputs": [
    {
     "name": "stdout",
     "output_type": "stream",
     "text": [
      "Train data length = 2325\n",
      "Test data length = 775\n"
     ]
    }
   ],
   "source": [
    "print(f\"Train data length = {len(y_train)}\")\n",
    "print(f\"Test data length = {len(y_test)}\")"
   ]
  },
  {
   "cell_type": "markdown",
   "metadata": {},
   "source": [
    "DecisionTreeClassifier"
   ]
  },
  {
   "cell_type": "code",
   "execution_count": 24,
   "metadata": {},
   "outputs": [
    {
     "data": {
      "text/plain": [
       "DecisionTreeClassifier(max_depth=100, max_features='log2')"
      ]
     },
     "execution_count": 24,
     "metadata": {},
     "output_type": "execute_result"
    }
   ],
   "source": [
    "from sklearn.tree import DecisionTreeClassifier\n",
    "decision_tree_classifier = DecisionTreeClassifier(max_depth = 100, max_features ='log2')\n",
    "decision_tree_classifier.fit(X_train, y_train)"
   ]
  },
  {
   "cell_type": "code",
   "execution_count": 25,
   "metadata": {},
   "outputs": [],
   "source": [
    "decision_tree_classifier_y_pred = decision_tree_classifier.predict(X_test)\n"
   ]
  },
  {
   "cell_type": "code",
   "execution_count": 391,
   "metadata": {},
   "outputs": [
    {
     "name": "stdout",
     "output_type": "stream",
     "text": [
      "Accuracy: 0.864516129032258\n"
     ]
    }
   ],
   "source": [
    "print(\"Accuracy:\",metrics.accuracy_score(y_test, decision_tree_classifier_y_pred))"
   ]
  },
  {
   "cell_type": "code",
   "execution_count": 392,
   "metadata": {},
   "outputs": [
    {
     "data": {
      "image/png": "[encoded data removed]",
      "text/plain": [
       "<Figure size 2160x720 with 1 Axes>"
      ]
     },
     "metadata": {
      "needs_background": "light"
     },
     "output_type": "display_data"
    }
   ],
   "source": [
    "from sklearn.tree import plot_tree\n",
    "plt.figure(figsize=(30,10))\n",
    "plot_tree(decision_tree_classifier, filled=True);"
   ]
  },
  {
   "cell_type": "code",
   "execution_count": 443,
   "metadata": {},
   "outputs": [
    {
     "data": {
      "image/png": "[encoded data removed]",
      "text/plain": [
       "<Figure size 432x288 with 1 Axes>"
      ]
     },
     "metadata": {
      "needs_background": "light"
     },
     "output_type": "display_data"
    }
   ],
   "source": [
    "mat = confusion_matrix(y_test, decision_tree_classifier_y_pred)\n",
    "sns.heatmap(mat.T, square=True, annot=True, fmt='d', cbar=False,\n",
    "            xticklabels=[0,1,2], yticklabels=[0,1,2])\n",
    "plt.xlabel('true label')\n",
    "plt.ylabel('predicted label');"
   ]
  },
  {
   "cell_type": "code",
   "execution_count": 444,
   "metadata": {},
   "outputs": [
    {
     "name": "stdout",
     "output_type": "stream",
     "text": [
      "              precision    recall  f1-score   support\n",
      "\n",
      "           0       0.81      0.65      0.72       136\n",
      "           1       0.84      0.95      0.89       416\n",
      "           2       0.96      0.83      0.89       223\n",
      "\n",
      "    accuracy                           0.86       775\n",
      "   macro avg       0.87      0.81      0.83       775\n",
      "weighted avg       0.87      0.86      0.86       775\n",
      "\n"
     ]
    }
   ],
   "source": [
    "print(classification_report(y_test, decision_tree_classifier_y_pred))"
   ]
  },
  {
   "cell_type": "code",
   "execution_count": 326,
   "metadata": {},
   "outputs": [
    {
     "data": {
      "text/html": [
       "<div>\n",
       "<style scoped>\n",
       "    .dataframe tbody tr th:only-of-type {\n",
       "        vertical-align: middle;\n",
       "    }\n",
       "\n",
       "    .dataframe tbody tr th {\n",
       "        vertical-align: top;\n",
       "    }\n",
       "\n",
       "    .dataframe thead th {\n",
       "        text-align: right;\n",
       "    }\n",
       "</style>\n",
       "<table border=\"1\" class=\"dataframe\">\n",
       "  <thead>\n",
       "    <tr style=\"text-align: right;\">\n",
       "      <th></th>\n",
       "      <th>Maybe</th>\n",
       "      <th>No</th>\n",
       "      <th>Yes</th>\n",
       "    </tr>\n",
       "  </thead>\n",
       "  <tbody>\n",
       "    <tr>\n",
       "      <th>0</th>\n",
       "      <td>0.000000</td>\n",
       "      <td>1.000000</td>\n",
       "      <td>0.000000</td>\n",
       "    </tr>\n",
       "    <tr>\n",
       "      <th>1</th>\n",
       "      <td>0.100000</td>\n",
       "      <td>0.800000</td>\n",
       "      <td>0.100000</td>\n",
       "    </tr>\n",
       "    <tr>\n",
       "      <th>2</th>\n",
       "      <td>0.600000</td>\n",
       "      <td>0.400000</td>\n",
       "      <td>0.000000</td>\n",
       "    </tr>\n",
       "    <tr>\n",
       "      <th>3</th>\n",
       "      <td>0.000000</td>\n",
       "      <td>0.969697</td>\n",
       "      <td>0.030303</td>\n",
       "    </tr>\n",
       "    <tr>\n",
       "      <th>4</th>\n",
       "      <td>0.111111</td>\n",
       "      <td>0.888889</td>\n",
       "      <td>0.000000</td>\n",
       "    </tr>\n",
       "    <tr>\n",
       "      <th>5</th>\n",
       "      <td>0.000000</td>\n",
       "      <td>0.000000</td>\n",
       "      <td>1.000000</td>\n",
       "    </tr>\n",
       "    <tr>\n",
       "      <th>6</th>\n",
       "      <td>0.000000</td>\n",
       "      <td>1.000000</td>\n",
       "      <td>0.000000</td>\n",
       "    </tr>\n",
       "    <tr>\n",
       "      <th>7</th>\n",
       "      <td>0.555556</td>\n",
       "      <td>0.444444</td>\n",
       "      <td>0.000000</td>\n",
       "    </tr>\n",
       "    <tr>\n",
       "      <th>8</th>\n",
       "      <td>0.000000</td>\n",
       "      <td>1.000000</td>\n",
       "      <td>0.000000</td>\n",
       "    </tr>\n",
       "    <tr>\n",
       "      <th>9</th>\n",
       "      <td>0.000000</td>\n",
       "      <td>0.000000</td>\n",
       "      <td>1.000000</td>\n",
       "    </tr>\n",
       "  </tbody>\n",
       "</table>\n",
       "</div>"
      ],
      "text/plain": [
       "      Maybe        No       Yes\n",
       "0  0.000000  1.000000  0.000000\n",
       "1  0.100000  0.800000  0.100000\n",
       "2  0.600000  0.400000  0.000000\n",
       "3  0.000000  0.969697  0.030303\n",
       "4  0.111111  0.888889  0.000000\n",
       "5  0.000000  0.000000  1.000000\n",
       "6  0.000000  1.000000  0.000000\n",
       "7  0.555556  0.444444  0.000000\n",
       "8  0.000000  1.000000  0.000000\n",
       "9  0.000000  0.000000  1.000000"
      ]
     },
     "execution_count": 326,
     "metadata": {},
     "output_type": "execute_result"
    }
   ],
   "source": [
    "y_score = decision_tree_classifier.predict_proba(X_test)\n",
    "y_score = pd.DataFrame(y_score, columns=['Maybe', 'No', 'Yes'])\n",
    "y_score.head(10)"
   ]
  },
  {
   "cell_type": "markdown",
   "metadata": {},
   "source": [
    "SVC"
   ]
  },
  {
   "cell_type": "code",
   "execution_count": 327,
   "metadata": {},
   "outputs": [
    {
     "data": {
      "text/plain": [
       "SVC(C=0.7, decision_function_shape='ovo', gamma=0.1, probability=True)"
      ]
     },
     "execution_count": 327,
     "metadata": {},
     "output_type": "execute_result"
    }
   ],
   "source": [
    "from sklearn import svm\n",
    "svm_classifier = svm.SVC(decision_function_shape='ovo', probability=True, gamma=0.1, C=0.7)\n",
    "svm_classifier.fit(X_train, y_train)"
   ]
  },
  {
   "cell_type": "code",
   "execution_count": 328,
   "metadata": {},
   "outputs": [],
   "source": [
    "svm_classifier_y_pred=svm_classifier.predict(X_test)"
   ]
  },
  {
   "cell_type": "code",
   "execution_count": 329,
   "metadata": {},
   "outputs": [
    {
     "name": "stdout",
     "output_type": "stream",
     "text": [
      "Accuracy: 0.7780645161290323\n"
     ]
    }
   ],
   "source": [
    "print(\"Accuracy:\",metrics.accuracy_score(y_test, svm_classifier_y_pred))"
   ]
  },
  {
   "cell_type": "markdown",
   "metadata": {},
   "source": [
    "RandomForestClassifier"
   ]
  },
  {
   "cell_type": "code",
   "execution_count": 439,
   "metadata": {},
   "outputs": [],
   "source": [
    "randomm_forest_classifier = RandomForestClassifier(max_depth=100, n_estimators=15)\n",
    "randomm_forest_classifier.fit(X_train, y_train)\n",
    "randomm_forest_classifier_y_pred=randomm_forest_classifier.predict(X_test)"
   ]
  },
  {
   "cell_type": "code",
   "execution_count": 440,
   "metadata": {},
   "outputs": [
    {
     "name": "stdout",
     "output_type": "stream",
     "text": [
      "Accuracy: 0.863225806451613\n"
     ]
    }
   ],
   "source": [
    "print(\"Accuracy:\",metrics.accuracy_score(y_test, randomm_forest_classifier_y_pred))"
   ]
  },
  {
   "cell_type": "code",
   "execution_count": 441,
   "metadata": {},
   "outputs": [
    {
     "data": {
      "image/png": "[encoded data removed]",
      "text/plain": [
       "<Figure size 432x288 with 1 Axes>"
      ]
     },
     "metadata": {
      "needs_background": "light"
     },
     "output_type": "display_data"
    }
   ],
   "source": [
    "mat = confusion_matrix(y_test, randomm_forest_classifier_y_pred)\n",
    "sns.heatmap(mat.T, square=True, annot=True, fmt='d', cbar=False,\n",
    "            xticklabels=[0,1,2], yticklabels=[0,1,2])\n",
    "plt.xlabel('true label')\n",
    "plt.ylabel('predicted label');"
   ]
  },
  {
   "cell_type": "code",
   "execution_count": 332,
   "metadata": {},
   "outputs": [
    {
     "name": "stdout",
     "output_type": "stream",
     "text": [
      "              precision    recall  f1-score   support\n",
      "\n",
      "           0       0.80      0.66      0.72       136\n",
      "           1       0.85      0.95      0.90       416\n",
      "           2       0.95      0.84      0.89       223\n",
      "\n",
      "    accuracy                           0.87       775\n",
      "   macro avg       0.87      0.82      0.84       775\n",
      "weighted avg       0.87      0.87      0.86       775\n",
      "\n"
     ]
    }
   ],
   "source": [
    "print(classification_report(y_test, randomm_forest_classifier_y_pred))"
   ]
  },
  {
   "cell_type": "markdown",
   "metadata": {},
   "source": [
    "MultinomialNB"
   ]
  },
  {
   "cell_type": "code",
   "execution_count": 333,
   "metadata": {},
   "outputs": [
    {
     "data": {
      "text/plain": [
       "MultinomialNB()"
      ]
     },
     "execution_count": 333,
     "metadata": {},
     "output_type": "execute_result"
    }
   ],
   "source": [
    "from sklearn.naive_bayes import MultinomialNB\n",
    "\n",
    "multinom_naive_bayes_classifier = MultinomialNB()\n",
    "multinom_naive_bayes_classifier.fit(X_train, y_train)"
   ]
  },
  {
   "cell_type": "code",
   "execution_count": 334,
   "metadata": {},
   "outputs": [
    {
     "name": "stdout",
     "output_type": "stream",
     "text": [
      "Accuracy: 0.6193548387096774\n"
     ]
    }
   ],
   "source": [
    "multinom_naive_bayes_classifier_y_pred=multinom_naive_bayes_classifier.predict(X_test)\n",
    "print(\"Accuracy:\",metrics.accuracy_score(y_test, multinom_naive_bayes_classifier_y_pred))"
   ]
  },
  {
   "cell_type": "markdown",
   "metadata": {},
   "source": [
    "LogisticRegression"
   ]
  },
  {
   "cell_type": "code",
   "execution_count": 335,
   "metadata": {},
   "outputs": [
    {
     "name": "stderr",
     "output_type": "stream",
     "text": [
      "C:\\Users\\Asus\\anaconda3\\lib\\site-packages\\sklearn\\linear_model\\_logistic.py:762: ConvergenceWarning: lbfgs failed to converge (status=1):\n",
      "STOP: TOTAL NO. of ITERATIONS REACHED LIMIT.\n",
      "\n",
      "Increase the number of iterations (max_iter) or scale the data as shown in:\n",
      "    https://scikit-learn.org/stable/modules/preprocessing.html\n",
      "Please also refer to the documentation for alternative solver options:\n",
      "    https://scikit-learn.org/stable/modules/linear_model.html#logistic-regression\n"
     ]
    }
   ],
   "source": [
    "from sklearn.linear_model import LogisticRegression\n",
    "logistic_regression_classififer = LogisticRegression(multi_class='multinomial', solver='lbfgs', penalty='l2', C=0.1)\n",
    "logistic_regression_classififer.fit(X_train, y_train)\n",
    "n_scores = cross_val_score(logistic_regression_classififer, X_test, y_test, scoring='accuracy', n_jobs=-1)\n",
    "logistic_regression_classififer_y_pred=logistic_regression_classififer.predict(X_test)\n"
   ]
  },
  {
   "cell_type": "code",
   "execution_count": 336,
   "metadata": {},
   "outputs": [
    {
     "name": "stdout",
     "output_type": "stream",
     "text": [
      "Accuracy: 0.7483870967741936\n"
     ]
    }
   ],
   "source": [
    "print(\"Accuracy:\",metrics.accuracy_score(y_test, logistic_regression_classififer_y_pred))"
   ]
  },
  {
   "cell_type": "markdown",
   "metadata": {},
   "source": [
    "User data"
   ]
  },
  {
   "cell_type": "code",
   "execution_count": 369,
   "metadata": {},
   "outputs": [
    {
     "name": "stdout",
     "output_type": "stream",
     "text": [
      "Please, write your age ({'0-15': 0, '16-22': 1, '23-40': 2, '40-65': 3, '>65': 4}):  1\n"
     ]
    }
   ],
   "source": [
    "age = int(input(\"Please, write your age ({'0-15': 0, '16-22': 1, '23-40': 2, '40-65': 3, '>65': 4}):  \"))"
   ]
  },
  {
   "cell_type": "code",
   "execution_count": 370,
   "metadata": {},
   "outputs": [
    {
     "name": "stdout",
     "output_type": "stream",
     "text": [
      "Please, write your gender ({'Female (Жінка)': 0, 'Male (Чоловік)': 1}):  0\n"
     ]
    }
   ],
   "source": [
    "gender = int(input(\"Please, write your gender ({'Female (Жінка)': 0, 'Male (Чоловік)': 1}):  \"))"
   ]
  },
  {
   "cell_type": "code",
   "execution_count": 371,
   "metadata": {},
   "outputs": [
    {
     "name": "stdout",
     "output_type": "stream",
     "text": [
      "Please, write if you smoke ({'No': 0, 'Yes': 1}):  0\n"
     ]
    }
   ],
   "source": [
    "smoke = int(input(\"Please, write if you smoke ({'No': 0, 'Yes': 1}):  \"))"
   ]
  },
  {
   "cell_type": "code",
   "execution_count": 372,
   "metadata": {},
   "outputs": [
    {
     "name": "stdout",
     "output_type": "stream",
     "text": [
      "Please, write your region ({'Germany': 0, 'Other (Інше)': 1, 'Ukraine, Chernivtsi (Чернівці)': 2,  'Ukraine, Lviv (Львів)': 3}): 3\n"
     ]
    }
   ],
   "source": [
    "region = int(input(\"Please, write your region ({'Germany': 0, 'Other (Інше)': 1, 'Ukraine, Chernivtsi (Чернівці)': 2,  'Ukraine, Lviv (Львів)': 3}): \") )"
   ]
  },
  {
   "cell_type": "code",
   "execution_count": 373,
   "metadata": {},
   "outputs": [
    {
     "name": "stdout",
     "output_type": "stream",
     "text": [
      "Please, write your IgM level ( {'0.9-1.1 (indefinable/невизначений)': 0,'<0.9 (negative/негативний)': 1,'>1.1 (positive/позитивний)': 2}):  1\n"
     ]
    }
   ],
   "source": [
    "IgM = float(input(\"Please, write your IgM level ( {'0.9-1.1 (indefinable/невизначений)': 0,'<0.9 (negative/негативний)': 1,'>1.1 (positive/позитивний)': 2}):  \"))"
   ]
  },
  {
   "cell_type": "code",
   "execution_count": 375,
   "metadata": {},
   "outputs": [
    {
     "name": "stdout",
     "output_type": "stream",
     "text": [
      "Please, write your IgM level ( {'0.9-1.1 (indefinable/невизначений)': 0,'<0.9 (negative/негативний)': 1,'>1.1 (positive/позитивний)': 2}):  1\n"
     ]
    }
   ],
   "source": [
    "IgG = float(input(\"Please, write your IgM level ( {'0.9-1.1 (indefinable/невизначений)': 0,'<0.9 (negative/негативний)': 1,'>1.1 (positive/позитивний)': 2}):  \"))"
   ]
  },
  {
   "cell_type": "code",
   "execution_count": 398,
   "metadata": {},
   "outputs": [
    {
     "name": "stdout",
     "output_type": "stream",
     "text": [
      "Please, write if you have tuberculosis vaccine ({'Maybe': 0, 'No': 1, 'Yes': 2}):  0\n"
     ]
    }
   ],
   "source": [
    "tuberculosis_vac = int(input(\"Please, write if you have tuberculosis vaccine ({'Maybe': 0, 'No': 1, 'Yes': 2}):  \"))"
   ]
  },
  {
   "cell_type": "code",
   "execution_count": 377,
   "metadata": {},
   "outputs": [
    {
     "name": "stdout",
     "output_type": "stream",
     "text": [
      "Please, write if you tuberculosis this year ({'Maybe': 0, 'No': 1, 'Yes': 2}):  1\n"
     ]
    }
   ],
   "source": [
    "tuberculosis = int(input(\"Please, write if you tuberculosis this year ({'Maybe': 0, 'No': 1, 'Yes': 2}):  \"))"
   ]
  },
  {
   "cell_type": "code",
   "execution_count": 378,
   "metadata": {},
   "outputs": [
    {
     "name": "stdout",
     "output_type": "stream",
     "text": [
      "Please, write your blood_group (1,2,3,4):  2\n"
     ]
    }
   ],
   "source": [
    "blood_group = int(input(\"Please, write your blood_group (1,2,3,4):  \"))"
   ]
  },
  {
   "cell_type": "code",
   "execution_count": 379,
   "metadata": {},
   "outputs": [
    {
     "name": "stdout",
     "output_type": "stream",
     "text": [
      "Please, write if you have influenza vaccine ({'Maybe': 0, 'No': 1, 'Yes': 2}): 2\n"
     ]
    }
   ],
   "source": [
    "influenza_vac = int(input(\"Please, write if you have influenza vaccine ({'Maybe': 0, 'No': 1, 'Yes': 2}): \"))"
   ]
  },
  {
   "cell_type": "code",
   "execution_count": 395,
   "metadata": {},
   "outputs": [
    {
     "name": "stdout",
     "output_type": "stream",
     "text": [
      "Please, write if you influenza this year ({'Maybe': 0, 'No': 1, 'Yes': 2}):  0\n"
     ]
    }
   ],
   "source": [
    "influenza = int(input(\"Please, write if you influenza this year ({'Maybe': 0, 'No': 1, 'Yes': 2}):  \"))"
   ]
  },
  {
   "cell_type": "code",
   "execution_count": 400,
   "metadata": {},
   "outputs": [],
   "source": [
    "personal_data = [age, gender, region,smoke, IgM, IgG,blood_group,influenza_vac, tuberculosis_vac, influenza, tuberculosis ]"
   ]
  },
  {
   "cell_type": "code",
   "execution_count": 404,
   "metadata": {},
   "outputs": [
    {
     "data": {
      "text/html": [
       "<div>\n",
       "<style scoped>\n",
       "    .dataframe tbody tr th:only-of-type {\n",
       "        vertical-align: middle;\n",
       "    }\n",
       "\n",
       "    .dataframe tbody tr th {\n",
       "        vertical-align: top;\n",
       "    }\n",
       "\n",
       "    .dataframe thead th {\n",
       "        text-align: right;\n",
       "    }\n",
       "</style>\n",
       "<table border=\"1\" class=\"dataframe\">\n",
       "  <thead>\n",
       "    <tr style=\"text-align: right;\">\n",
       "      <th></th>\n",
       "      <th>Maybe</th>\n",
       "      <th>No</th>\n",
       "      <th>Yes</th>\n",
       "    </tr>\n",
       "  </thead>\n",
       "  <tbody>\n",
       "    <tr>\n",
       "      <th>0</th>\n",
       "      <td>0.3125</td>\n",
       "      <td>0.65</td>\n",
       "      <td>0.0375</td>\n",
       "    </tr>\n",
       "  </tbody>\n",
       "</table>\n",
       "</div>"
      ],
      "text/plain": [
       "    Maybe    No     Yes\n",
       "0  0.3125  0.65  0.0375"
      ]
     },
     "execution_count": 404,
     "metadata": {},
     "output_type": "execute_result"
    }
   ],
   "source": [
    "result = decision_tree_classifier.predict_proba([personal_data,])\n",
    "result = pd.DataFrame(result, columns=['Maybe', 'No', 'Yes'])\n",
    "result.head()"
   ]
  },
  {
   "cell_type": "code",
   "execution_count": null,
   "metadata": {},
   "outputs": [],
   "source": []
  },
  {
   "cell_type": "code",
   "execution_count": null,
   "metadata": {},
   "outputs": [],
   "source": [
    "\n",
    "X_train, X_test, Y_train, Y_test = X_train, X_test, y_train, y_test\n",
    "# Make sure that data still is balanced\n",
    "print('\\n--- Class balance ---')\n",
    "print(np.unique(Y_train, return_counts=True))\n",
    "print(np.unique(Y_test, return_counts=True))\n",
    "# Train and evaluate\n",
    "train_and_evaluate(X_train, Y_train, X_test, Y_test)\n",
    "# Plot classifier\n",
    "plot_classifier(X, Y)\n"
   ]
  },
  {
   "cell_type": "code",
   "execution_count": null,
   "metadata": {},
   "outputs": [],
   "source": []
  }
 ],
 "metadata": {
  "kernelspec": {
   "display_name": "Python 3",
   "language": "python",
   "name": "python3"
  },
  "language_info": {
   "codemirror_mode": {
    "name": "ipython",
    "version": 3
   },
   "file_extension": ".py",
   "mimetype": "text/x-python",
   "name": "python",
   "nbconvert_exporter": "python",
   "pygments_lexer": "ipython3",
   "version": "3.8.3"
  }
 },
 "nbformat": 4,
 "nbformat_minor": 4
}
